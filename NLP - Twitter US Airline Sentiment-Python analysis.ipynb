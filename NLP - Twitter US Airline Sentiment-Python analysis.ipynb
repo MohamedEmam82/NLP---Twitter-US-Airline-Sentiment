{
 "cells": [
  {
   "cell_type": "code",
   "execution_count": 1,
   "metadata": {},
   "outputs": [],
   "source": [
    "import numpy as np\n",
    "import pandas as pd\n",
    "import matplotlib.pyplot as plt\n",
    "import seaborn as sns\n",
    "\n",
    "from bs4 import BeautifulSoup #remove html tags\n",
    "import unicodedata #remove accented characters\n",
    "\n",
    "#tokenization\n",
    "import nltk\n",
    "from nltk.tokenize.toktok import ToktokTokenizer\n",
    "\n",
    "#remove special characters\n",
    "import re\n",
    "\n",
    "import spacy\n",
    "\n",
    "from nltk.corpus import stopwords\n",
    "from nltk.tokenize import word_tokenize\n",
    "\n",
    "from sklearn.feature_extraction.text import CountVectorizer\n",
    "from sklearn.feature_extraction.text import TfidfVectorizer\n",
    "\n",
    "from sklearn.ensemble import RandomForestClassifier\n",
    "from sklearn.model_selection import cross_val_score\n",
    "\n",
    "from textblob import TextBlob\n",
    "from vaderSentiment.vaderSentiment import SentimentIntensityAnalyzer"
   ]
  },
  {
   "cell_type": "code",
   "execution_count": 2,
   "metadata": {},
   "outputs": [
    {
     "name": "stdout",
     "output_type": "stream",
     "text": [
      "Requirement already satisfied: contractions in c:\\users\\user\\anaconda3\\lib\\site-packages (0.0.48)\n",
      "Requirement already satisfied: textsearch>=0.0.21 in c:\\users\\user\\anaconda3\\lib\\site-packages (from contractions) (0.0.21)\n",
      "Requirement already satisfied: pyahocorasick in c:\\users\\user\\anaconda3\\lib\\site-packages (from textsearch>=0.0.21->contractions) (1.4.0)\n",
      "Requirement already satisfied: anyascii in c:\\users\\user\\anaconda3\\lib\\site-packages (from textsearch>=0.0.21->contractions) (0.1.7)\n"
     ]
    }
   ],
   "source": [
    "!pip install contractions"
   ]
  },
  {
   "cell_type": "code",
   "execution_count": 3,
   "metadata": {},
   "outputs": [
    {
     "name": "stderr",
     "output_type": "stream",
     "text": [
      "[nltk_data] Downloading package wordnet to\n",
      "[nltk_data]     C:\\Users\\user\\AppData\\Roaming\\nltk_data...\n",
      "[nltk_data]   Package wordnet is already up-to-date!\n"
     ]
    },
    {
     "data": {
      "text/plain": [
       "True"
      ]
     },
     "execution_count": 3,
     "metadata": {},
     "output_type": "execute_result"
    }
   ],
   "source": [
    "\n",
    "nltk.download('wordnet')"
   ]
  },
  {
   "cell_type": "markdown",
   "metadata": {},
   "source": [
    "# 1. Import the libraries, load dataset, print shape of data, data description."
   ]
  },
  {
   "cell_type": "code",
   "execution_count": 4,
   "metadata": {},
   "outputs": [
    {
     "data": {
      "text/html": [
       "<div>\n",
       "<style scoped>\n",
       "    .dataframe tbody tr th:only-of-type {\n",
       "        vertical-align: middle;\n",
       "    }\n",
       "\n",
       "    .dataframe tbody tr th {\n",
       "        vertical-align: top;\n",
       "    }\n",
       "\n",
       "    .dataframe thead th {\n",
       "        text-align: right;\n",
       "    }\n",
       "</style>\n",
       "<table border=\"1\" class=\"dataframe\">\n",
       "  <thead>\n",
       "    <tr style=\"text-align: right;\">\n",
       "      <th></th>\n",
       "      <th>tweet_id</th>\n",
       "      <th>airline_sentiment</th>\n",
       "      <th>airline_sentiment_confidence</th>\n",
       "      <th>negativereason</th>\n",
       "      <th>negativereason_confidence</th>\n",
       "      <th>airline</th>\n",
       "      <th>airline_sentiment_gold</th>\n",
       "      <th>name</th>\n",
       "      <th>negativereason_gold</th>\n",
       "      <th>retweet_count</th>\n",
       "      <th>text</th>\n",
       "      <th>tweet_coord</th>\n",
       "      <th>tweet_created</th>\n",
       "      <th>tweet_location</th>\n",
       "      <th>user_timezone</th>\n",
       "    </tr>\n",
       "  </thead>\n",
       "  <tbody>\n",
       "    <tr>\n",
       "      <th>0</th>\n",
       "      <td>570306133677760513</td>\n",
       "      <td>neutral</td>\n",
       "      <td>1.0000</td>\n",
       "      <td>NaN</td>\n",
       "      <td>NaN</td>\n",
       "      <td>Virgin America</td>\n",
       "      <td>NaN</td>\n",
       "      <td>cairdin</td>\n",
       "      <td>NaN</td>\n",
       "      <td>0</td>\n",
       "      <td>@VirginAmerica What @dhepburn said.</td>\n",
       "      <td>NaN</td>\n",
       "      <td>2015-02-24 11:35:52 -0800</td>\n",
       "      <td>NaN</td>\n",
       "      <td>Eastern Time (US &amp; Canada)</td>\n",
       "    </tr>\n",
       "    <tr>\n",
       "      <th>1</th>\n",
       "      <td>570301130888122368</td>\n",
       "      <td>positive</td>\n",
       "      <td>0.3486</td>\n",
       "      <td>NaN</td>\n",
       "      <td>0.0000</td>\n",
       "      <td>Virgin America</td>\n",
       "      <td>NaN</td>\n",
       "      <td>jnardino</td>\n",
       "      <td>NaN</td>\n",
       "      <td>0</td>\n",
       "      <td>@VirginAmerica plus you've added commercials t...</td>\n",
       "      <td>NaN</td>\n",
       "      <td>2015-02-24 11:15:59 -0800</td>\n",
       "      <td>NaN</td>\n",
       "      <td>Pacific Time (US &amp; Canada)</td>\n",
       "    </tr>\n",
       "    <tr>\n",
       "      <th>2</th>\n",
       "      <td>570301083672813571</td>\n",
       "      <td>neutral</td>\n",
       "      <td>0.6837</td>\n",
       "      <td>NaN</td>\n",
       "      <td>NaN</td>\n",
       "      <td>Virgin America</td>\n",
       "      <td>NaN</td>\n",
       "      <td>yvonnalynn</td>\n",
       "      <td>NaN</td>\n",
       "      <td>0</td>\n",
       "      <td>@VirginAmerica I didn't today... Must mean I n...</td>\n",
       "      <td>NaN</td>\n",
       "      <td>2015-02-24 11:15:48 -0800</td>\n",
       "      <td>Lets Play</td>\n",
       "      <td>Central Time (US &amp; Canada)</td>\n",
       "    </tr>\n",
       "    <tr>\n",
       "      <th>3</th>\n",
       "      <td>570301031407624196</td>\n",
       "      <td>negative</td>\n",
       "      <td>1.0000</td>\n",
       "      <td>Bad Flight</td>\n",
       "      <td>0.7033</td>\n",
       "      <td>Virgin America</td>\n",
       "      <td>NaN</td>\n",
       "      <td>jnardino</td>\n",
       "      <td>NaN</td>\n",
       "      <td>0</td>\n",
       "      <td>@VirginAmerica it's really aggressive to blast...</td>\n",
       "      <td>NaN</td>\n",
       "      <td>2015-02-24 11:15:36 -0800</td>\n",
       "      <td>NaN</td>\n",
       "      <td>Pacific Time (US &amp; Canada)</td>\n",
       "    </tr>\n",
       "    <tr>\n",
       "      <th>4</th>\n",
       "      <td>570300817074462722</td>\n",
       "      <td>negative</td>\n",
       "      <td>1.0000</td>\n",
       "      <td>Can't Tell</td>\n",
       "      <td>1.0000</td>\n",
       "      <td>Virgin America</td>\n",
       "      <td>NaN</td>\n",
       "      <td>jnardino</td>\n",
       "      <td>NaN</td>\n",
       "      <td>0</td>\n",
       "      <td>@VirginAmerica and it's a really big bad thing...</td>\n",
       "      <td>NaN</td>\n",
       "      <td>2015-02-24 11:14:45 -0800</td>\n",
       "      <td>NaN</td>\n",
       "      <td>Pacific Time (US &amp; Canada)</td>\n",
       "    </tr>\n",
       "  </tbody>\n",
       "</table>\n",
       "</div>"
      ],
      "text/plain": [
       "             tweet_id airline_sentiment  airline_sentiment_confidence  \\\n",
       "0  570306133677760513           neutral                        1.0000   \n",
       "1  570301130888122368          positive                        0.3486   \n",
       "2  570301083672813571           neutral                        0.6837   \n",
       "3  570301031407624196          negative                        1.0000   \n",
       "4  570300817074462722          negative                        1.0000   \n",
       "\n",
       "  negativereason  negativereason_confidence         airline  \\\n",
       "0            NaN                        NaN  Virgin America   \n",
       "1            NaN                     0.0000  Virgin America   \n",
       "2            NaN                        NaN  Virgin America   \n",
       "3     Bad Flight                     0.7033  Virgin America   \n",
       "4     Can't Tell                     1.0000  Virgin America   \n",
       "\n",
       "  airline_sentiment_gold        name negativereason_gold  retweet_count  \\\n",
       "0                    NaN     cairdin                 NaN              0   \n",
       "1                    NaN    jnardino                 NaN              0   \n",
       "2                    NaN  yvonnalynn                 NaN              0   \n",
       "3                    NaN    jnardino                 NaN              0   \n",
       "4                    NaN    jnardino                 NaN              0   \n",
       "\n",
       "                                                text tweet_coord  \\\n",
       "0                @VirginAmerica What @dhepburn said.         NaN   \n",
       "1  @VirginAmerica plus you've added commercials t...         NaN   \n",
       "2  @VirginAmerica I didn't today... Must mean I n...         NaN   \n",
       "3  @VirginAmerica it's really aggressive to blast...         NaN   \n",
       "4  @VirginAmerica and it's a really big bad thing...         NaN   \n",
       "\n",
       "               tweet_created tweet_location               user_timezone  \n",
       "0  2015-02-24 11:35:52 -0800            NaN  Eastern Time (US & Canada)  \n",
       "1  2015-02-24 11:15:59 -0800            NaN  Pacific Time (US & Canada)  \n",
       "2  2015-02-24 11:15:48 -0800      Lets Play  Central Time (US & Canada)  \n",
       "3  2015-02-24 11:15:36 -0800            NaN  Pacific Time (US & Canada)  \n",
       "4  2015-02-24 11:14:45 -0800            NaN  Pacific Time (US & Canada)  "
      ]
     },
     "execution_count": 4,
     "metadata": {},
     "output_type": "execute_result"
    }
   ],
   "source": [
    "data = pd.read_csv('Tweets.csv')\n",
    "data.head()"
   ]
  },
  {
   "cell_type": "code",
   "execution_count": 5,
   "metadata": {},
   "outputs": [
    {
     "data": {
      "text/plain": [
       "(14640, 15)"
      ]
     },
     "execution_count": 5,
     "metadata": {},
     "output_type": "execute_result"
    }
   ],
   "source": [
    "data.shape"
   ]
  },
  {
   "cell_type": "code",
   "execution_count": 6,
   "metadata": {},
   "outputs": [
    {
     "name": "stdout",
     "output_type": "stream",
     "text": [
      "<class 'pandas.core.frame.DataFrame'>\n",
      "RangeIndex: 14640 entries, 0 to 14639\n",
      "Data columns (total 15 columns):\n",
      " #   Column                        Non-Null Count  Dtype  \n",
      "---  ------                        --------------  -----  \n",
      " 0   tweet_id                      14640 non-null  int64  \n",
      " 1   airline_sentiment             14640 non-null  object \n",
      " 2   airline_sentiment_confidence  14640 non-null  float64\n",
      " 3   negativereason                9178 non-null   object \n",
      " 4   negativereason_confidence     10522 non-null  float64\n",
      " 5   airline                       14640 non-null  object \n",
      " 6   airline_sentiment_gold        40 non-null     object \n",
      " 7   name                          14640 non-null  object \n",
      " 8   negativereason_gold           32 non-null     object \n",
      " 9   retweet_count                 14640 non-null  int64  \n",
      " 10  text                          14640 non-null  object \n",
      " 11  tweet_coord                   1019 non-null   object \n",
      " 12  tweet_created                 14640 non-null  object \n",
      " 13  tweet_location                9907 non-null   object \n",
      " 14  user_timezone                 9820 non-null   object \n",
      "dtypes: float64(2), int64(2), object(11)\n",
      "memory usage: 1.7+ MB\n"
     ]
    }
   ],
   "source": [
    "data.info()"
   ]
  },
  {
   "cell_type": "markdown",
   "metadata": {},
   "source": [
    "# 2. Understand of data-columns"
   ]
  },
  {
   "cell_type": "code",
   "execution_count": 7,
   "metadata": {},
   "outputs": [
    {
     "data": {
      "text/html": [
       "<div>\n",
       "<style scoped>\n",
       "    .dataframe tbody tr th:only-of-type {\n",
       "        vertical-align: middle;\n",
       "    }\n",
       "\n",
       "    .dataframe tbody tr th {\n",
       "        vertical-align: top;\n",
       "    }\n",
       "\n",
       "    .dataframe thead th {\n",
       "        text-align: right;\n",
       "    }\n",
       "</style>\n",
       "<table border=\"1\" class=\"dataframe\">\n",
       "  <thead>\n",
       "    <tr style=\"text-align: right;\">\n",
       "      <th></th>\n",
       "      <th>airline_sentiment</th>\n",
       "      <th>text</th>\n",
       "    </tr>\n",
       "  </thead>\n",
       "  <tbody>\n",
       "    <tr>\n",
       "      <th>0</th>\n",
       "      <td>neutral</td>\n",
       "      <td>@VirginAmerica What @dhepburn said.</td>\n",
       "    </tr>\n",
       "    <tr>\n",
       "      <th>1</th>\n",
       "      <td>positive</td>\n",
       "      <td>@VirginAmerica plus you've added commercials t...</td>\n",
       "    </tr>\n",
       "    <tr>\n",
       "      <th>2</th>\n",
       "      <td>neutral</td>\n",
       "      <td>@VirginAmerica I didn't today... Must mean I n...</td>\n",
       "    </tr>\n",
       "    <tr>\n",
       "      <th>3</th>\n",
       "      <td>negative</td>\n",
       "      <td>@VirginAmerica it's really aggressive to blast...</td>\n",
       "    </tr>\n",
       "    <tr>\n",
       "      <th>4</th>\n",
       "      <td>negative</td>\n",
       "      <td>@VirginAmerica and it's a really big bad thing...</td>\n",
       "    </tr>\n",
       "    <tr>\n",
       "      <th>...</th>\n",
       "      <td>...</td>\n",
       "      <td>...</td>\n",
       "    </tr>\n",
       "    <tr>\n",
       "      <th>14635</th>\n",
       "      <td>positive</td>\n",
       "      <td>@AmericanAir thank you we got on a different f...</td>\n",
       "    </tr>\n",
       "    <tr>\n",
       "      <th>14636</th>\n",
       "      <td>negative</td>\n",
       "      <td>@AmericanAir leaving over 20 minutes Late Flig...</td>\n",
       "    </tr>\n",
       "    <tr>\n",
       "      <th>14637</th>\n",
       "      <td>neutral</td>\n",
       "      <td>@AmericanAir Please bring American Airlines to...</td>\n",
       "    </tr>\n",
       "    <tr>\n",
       "      <th>14638</th>\n",
       "      <td>negative</td>\n",
       "      <td>@AmericanAir you have my money, you change my ...</td>\n",
       "    </tr>\n",
       "    <tr>\n",
       "      <th>14639</th>\n",
       "      <td>neutral</td>\n",
       "      <td>@AmericanAir we have 8 ppl so we need 2 know h...</td>\n",
       "    </tr>\n",
       "  </tbody>\n",
       "</table>\n",
       "<p>14640 rows × 2 columns</p>\n",
       "</div>"
      ],
      "text/plain": [
       "      airline_sentiment                                               text\n",
       "0               neutral                @VirginAmerica What @dhepburn said.\n",
       "1              positive  @VirginAmerica plus you've added commercials t...\n",
       "2               neutral  @VirginAmerica I didn't today... Must mean I n...\n",
       "3              negative  @VirginAmerica it's really aggressive to blast...\n",
       "4              negative  @VirginAmerica and it's a really big bad thing...\n",
       "...                 ...                                                ...\n",
       "14635          positive  @AmericanAir thank you we got on a different f...\n",
       "14636          negative  @AmericanAir leaving over 20 minutes Late Flig...\n",
       "14637           neutral  @AmericanAir Please bring American Airlines to...\n",
       "14638          negative  @AmericanAir you have my money, you change my ...\n",
       "14639           neutral  @AmericanAir we have 8 ppl so we need 2 know h...\n",
       "\n",
       "[14640 rows x 2 columns]"
      ]
     },
     "execution_count": 7,
     "metadata": {},
     "output_type": "execute_result"
    }
   ],
   "source": [
    "# a. Drop all other columns except “text” and “airline_sentiment”.\n",
    "tweets = data.iloc[:14640,[1,10]]\n",
    "tweets"
   ]
  },
  {
   "cell_type": "code",
   "execution_count": 8,
   "metadata": {},
   "outputs": [
    {
     "data": {
      "text/plain": [
       "airline_sentiment    0\n",
       "text                 0\n",
       "dtype: int64"
      ]
     },
     "execution_count": 8,
     "metadata": {},
     "output_type": "execute_result"
    }
   ],
   "source": [
    "# checking for null data\n",
    "tweets.isnull().sum()"
   ]
  },
  {
   "cell_type": "code",
   "execution_count": 9,
   "metadata": {},
   "outputs": [
    {
     "data": {
      "text/plain": [
       "(14640, 2)"
      ]
     },
     "execution_count": 9,
     "metadata": {},
     "output_type": "execute_result"
    }
   ],
   "source": [
    "# b. Check the shape of data.\n",
    "tweets.shape"
   ]
  },
  {
   "cell_type": "code",
   "execution_count": null,
   "metadata": {},
   "outputs": [],
   "source": []
  },
  {
   "cell_type": "code",
   "execution_count": 10,
   "metadata": {},
   "outputs": [
    {
     "data": {
      "text/html": [
       "<div>\n",
       "<style scoped>\n",
       "    .dataframe tbody tr th:only-of-type {\n",
       "        vertical-align: middle;\n",
       "    }\n",
       "\n",
       "    .dataframe tbody tr th {\n",
       "        vertical-align: top;\n",
       "    }\n",
       "\n",
       "    .dataframe thead th {\n",
       "        text-align: right;\n",
       "    }\n",
       "</style>\n",
       "<table border=\"1\" class=\"dataframe\">\n",
       "  <thead>\n",
       "    <tr style=\"text-align: right;\">\n",
       "      <th></th>\n",
       "      <th>airline_sentiment</th>\n",
       "      <th>text</th>\n",
       "    </tr>\n",
       "  </thead>\n",
       "  <tbody>\n",
       "    <tr>\n",
       "      <th>0</th>\n",
       "      <td>neutral</td>\n",
       "      <td>@VirginAmerica What @dhepburn said.</td>\n",
       "    </tr>\n",
       "    <tr>\n",
       "      <th>1</th>\n",
       "      <td>positive</td>\n",
       "      <td>@VirginAmerica plus you've added commercials to the experience... tacky.</td>\n",
       "    </tr>\n",
       "    <tr>\n",
       "      <th>2</th>\n",
       "      <td>neutral</td>\n",
       "      <td>@VirginAmerica I didn't today... Must mean I need to take another trip!</td>\n",
       "    </tr>\n",
       "    <tr>\n",
       "      <th>3</th>\n",
       "      <td>negative</td>\n",
       "      <td>@VirginAmerica it's really aggressive to blast obnoxious \"entertainment\" in your guests' faces &amp;amp; they have little recourse</td>\n",
       "    </tr>\n",
       "    <tr>\n",
       "      <th>4</th>\n",
       "      <td>negative</td>\n",
       "      <td>@VirginAmerica and it's a really big bad thing about it</td>\n",
       "    </tr>\n",
       "    <tr>\n",
       "      <th>5</th>\n",
       "      <td>negative</td>\n",
       "      <td>@VirginAmerica seriously would pay $30 a flight for seats that didn't have this playing.\\nit's really the only bad thing about flying VA</td>\n",
       "    </tr>\n",
       "    <tr>\n",
       "      <th>6</th>\n",
       "      <td>positive</td>\n",
       "      <td>@VirginAmerica yes, nearly every time I fly VX this “ear worm” won’t go away :)</td>\n",
       "    </tr>\n",
       "    <tr>\n",
       "      <th>7</th>\n",
       "      <td>neutral</td>\n",
       "      <td>@VirginAmerica Really missed a prime opportunity for Men Without Hats parody, there. https://t.co/mWpG7grEZP</td>\n",
       "    </tr>\n",
       "    <tr>\n",
       "      <th>8</th>\n",
       "      <td>positive</td>\n",
       "      <td>@virginamerica Well, I didn't…but NOW I DO! :-D</td>\n",
       "    </tr>\n",
       "    <tr>\n",
       "      <th>9</th>\n",
       "      <td>positive</td>\n",
       "      <td>@VirginAmerica it was amazing, and arrived an hour early. You're too good to me.</td>\n",
       "    </tr>\n",
       "  </tbody>\n",
       "</table>\n",
       "</div>"
      ],
      "text/plain": [
       "  airline_sentiment  \\\n",
       "0           neutral   \n",
       "1          positive   \n",
       "2           neutral   \n",
       "3          negative   \n",
       "4          negative   \n",
       "5          negative   \n",
       "6          positive   \n",
       "7           neutral   \n",
       "8          positive   \n",
       "9          positive   \n",
       "\n",
       "                                                                                                                                       text  \n",
       "0                                                                                                       @VirginAmerica What @dhepburn said.  \n",
       "1                                                                  @VirginAmerica plus you've added commercials to the experience... tacky.  \n",
       "2                                                                   @VirginAmerica I didn't today... Must mean I need to take another trip!  \n",
       "3            @VirginAmerica it's really aggressive to blast obnoxious \"entertainment\" in your guests' faces &amp; they have little recourse  \n",
       "4                                                                                   @VirginAmerica and it's a really big bad thing about it  \n",
       "5  @VirginAmerica seriously would pay $30 a flight for seats that didn't have this playing.\\nit's really the only bad thing about flying VA  \n",
       "6                                                           @VirginAmerica yes, nearly every time I fly VX this “ear worm” won’t go away :)  \n",
       "7                              @VirginAmerica Really missed a prime opportunity for Men Without Hats parody, there. https://t.co/mWpG7grEZP  \n",
       "8                                                                                           @virginamerica Well, I didn't…but NOW I DO! :-D  \n",
       "9                                                          @VirginAmerica it was amazing, and arrived an hour early. You're too good to me.  "
      ]
     },
     "execution_count": 10,
     "metadata": {},
     "output_type": "execute_result"
    }
   ],
   "source": [
    "# c. Print first 5 rows of data.\n",
    "pd.set_option('display.max_colwidth',None)\n",
    "tweets.head(10)"
   ]
  },
  {
   "cell_type": "markdown",
   "metadata": {},
   "source": [
    "# 3. Text pre-processing: Data preparation. "
   ]
  },
  {
   "cell_type": "code",
   "execution_count": 11,
   "metadata": {},
   "outputs": [
    {
     "data": {
      "text/html": [
       "<div>\n",
       "<style scoped>\n",
       "    .dataframe tbody tr th:only-of-type {\n",
       "        vertical-align: middle;\n",
       "    }\n",
       "\n",
       "    .dataframe tbody tr th {\n",
       "        vertical-align: top;\n",
       "    }\n",
       "\n",
       "    .dataframe thead th {\n",
       "        text-align: right;\n",
       "    }\n",
       "</style>\n",
       "<table border=\"1\" class=\"dataframe\">\n",
       "  <thead>\n",
       "    <tr style=\"text-align: right;\">\n",
       "      <th></th>\n",
       "      <th>airline_sentiment</th>\n",
       "      <th>text</th>\n",
       "    </tr>\n",
       "  </thead>\n",
       "  <tbody>\n",
       "    <tr>\n",
       "      <th>0</th>\n",
       "      <td>neutral</td>\n",
       "      <td>@VirginAmerica What @dhepburn said.</td>\n",
       "    </tr>\n",
       "    <tr>\n",
       "      <th>1</th>\n",
       "      <td>positive</td>\n",
       "      <td>@VirginAmerica plus you've added commercials to the experience... tacky.</td>\n",
       "    </tr>\n",
       "    <tr>\n",
       "      <th>2</th>\n",
       "      <td>neutral</td>\n",
       "      <td>@VirginAmerica I didn't today... Must mean I need to take another trip!</td>\n",
       "    </tr>\n",
       "    <tr>\n",
       "      <th>3</th>\n",
       "      <td>negative</td>\n",
       "      <td>@VirginAmerica it's really aggressive to blast obnoxious \"entertainment\" in your guests' faces &amp; they have little recourse</td>\n",
       "    </tr>\n",
       "    <tr>\n",
       "      <th>4</th>\n",
       "      <td>negative</td>\n",
       "      <td>@VirginAmerica and it's a really big bad thing about it</td>\n",
       "    </tr>\n",
       "    <tr>\n",
       "      <th>5</th>\n",
       "      <td>negative</td>\n",
       "      <td>@VirginAmerica seriously would pay $30 a flight for seats that didn't have this playing.\\nit's really the only bad thing about flying VA</td>\n",
       "    </tr>\n",
       "    <tr>\n",
       "      <th>6</th>\n",
       "      <td>positive</td>\n",
       "      <td>@VirginAmerica yes, nearly every time I fly VX this “ear worm” won’t go away :)</td>\n",
       "    </tr>\n",
       "    <tr>\n",
       "      <th>7</th>\n",
       "      <td>neutral</td>\n",
       "      <td>@VirginAmerica Really missed a prime opportunity for Men Without Hats parody, there. https://t.co/mWpG7grEZP</td>\n",
       "    </tr>\n",
       "    <tr>\n",
       "      <th>8</th>\n",
       "      <td>positive</td>\n",
       "      <td>@virginamerica Well, I didn't…but NOW I DO! :-D</td>\n",
       "    </tr>\n",
       "    <tr>\n",
       "      <th>9</th>\n",
       "      <td>positive</td>\n",
       "      <td>@VirginAmerica it was amazing, and arrived an hour early. You're too good to me.</td>\n",
       "    </tr>\n",
       "  </tbody>\n",
       "</table>\n",
       "</div>"
      ],
      "text/plain": [
       "  airline_sentiment  \\\n",
       "0           neutral   \n",
       "1          positive   \n",
       "2           neutral   \n",
       "3          negative   \n",
       "4          negative   \n",
       "5          negative   \n",
       "6          positive   \n",
       "7           neutral   \n",
       "8          positive   \n",
       "9          positive   \n",
       "\n",
       "                                                                                                                                       text  \n",
       "0                                                                                                       @VirginAmerica What @dhepburn said.  \n",
       "1                                                                  @VirginAmerica plus you've added commercials to the experience... tacky.  \n",
       "2                                                                   @VirginAmerica I didn't today... Must mean I need to take another trip!  \n",
       "3                @VirginAmerica it's really aggressive to blast obnoxious \"entertainment\" in your guests' faces & they have little recourse  \n",
       "4                                                                                   @VirginAmerica and it's a really big bad thing about it  \n",
       "5  @VirginAmerica seriously would pay $30 a flight for seats that didn't have this playing.\\nit's really the only bad thing about flying VA  \n",
       "6                                                           @VirginAmerica yes, nearly every time I fly VX this “ear worm” won’t go away :)  \n",
       "7                              @VirginAmerica Really missed a prime opportunity for Men Without Hats parody, there. https://t.co/mWpG7grEZP  \n",
       "8                                                                                           @virginamerica Well, I didn't…but NOW I DO! :-D  \n",
       "9                                                          @VirginAmerica it was amazing, and arrived an hour early. You're too good to me.  "
      ]
     },
     "execution_count": 11,
     "metadata": {},
     "output_type": "execute_result"
    }
   ],
   "source": [
    "# a. Html tag removal.\n",
    "def strip_html(text):\n",
    "    soup = BeautifulSoup(text, \"html.parser\")\n",
    "    return soup.get_text()\n",
    "\n",
    "tweets_a = tweets.copy()\n",
    "tweets_a['text'] = tweets_a['text'].apply(lambda x: strip_html(x))\n",
    "tweets_a.head(10)"
   ]
  },
  {
   "cell_type": "code",
   "execution_count": 12,
   "metadata": {},
   "outputs": [
    {
     "data": {
      "text/html": [
       "<div>\n",
       "<style scoped>\n",
       "    .dataframe tbody tr th:only-of-type {\n",
       "        vertical-align: middle;\n",
       "    }\n",
       "\n",
       "    .dataframe tbody tr th {\n",
       "        vertical-align: top;\n",
       "    }\n",
       "\n",
       "    .dataframe thead th {\n",
       "        text-align: right;\n",
       "    }\n",
       "</style>\n",
       "<table border=\"1\" class=\"dataframe\">\n",
       "  <thead>\n",
       "    <tr style=\"text-align: right;\">\n",
       "      <th></th>\n",
       "      <th>airline_sentiment</th>\n",
       "      <th>text</th>\n",
       "    </tr>\n",
       "  </thead>\n",
       "  <tbody>\n",
       "    <tr>\n",
       "      <th>0</th>\n",
       "      <td>neutral</td>\n",
       "      <td>@VirginAmerica What @dhepburn said.</td>\n",
       "    </tr>\n",
       "    <tr>\n",
       "      <th>1</th>\n",
       "      <td>positive</td>\n",
       "      <td>@VirginAmerica plus you have added commercials to the experience... tacky.</td>\n",
       "    </tr>\n",
       "    <tr>\n",
       "      <th>2</th>\n",
       "      <td>neutral</td>\n",
       "      <td>@VirginAmerica I did not today... Must mean I need to take another trip!</td>\n",
       "    </tr>\n",
       "    <tr>\n",
       "      <th>3</th>\n",
       "      <td>negative</td>\n",
       "      <td>@VirginAmerica it is really aggressive to blast obnoxious \"entertainment\" in your guests' faces &amp; they have little recourse</td>\n",
       "    </tr>\n",
       "    <tr>\n",
       "      <th>4</th>\n",
       "      <td>negative</td>\n",
       "      <td>@VirginAmerica and it is a really big bad thing about it</td>\n",
       "    </tr>\n",
       "    <tr>\n",
       "      <th>5</th>\n",
       "      <td>negative</td>\n",
       "      <td>@VirginAmerica seriously would pay $30 a flight for seats that did not have this playing.\\nit is really the only bad thing about flying VA</td>\n",
       "    </tr>\n",
       "    <tr>\n",
       "      <th>6</th>\n",
       "      <td>positive</td>\n",
       "      <td>@VirginAmerica yes, nearly every time I fly VX this “ear worm” will not go away :)</td>\n",
       "    </tr>\n",
       "    <tr>\n",
       "      <th>7</th>\n",
       "      <td>neutral</td>\n",
       "      <td>@VirginAmerica Really missed a prime opportunity for Men Without Hats parody, there. https://t.co/mWpG7grEZP</td>\n",
       "    </tr>\n",
       "    <tr>\n",
       "      <th>8</th>\n",
       "      <td>positive</td>\n",
       "      <td>@virginamerica Well, I did not…but NOW I DO! :-D</td>\n",
       "    </tr>\n",
       "    <tr>\n",
       "      <th>9</th>\n",
       "      <td>positive</td>\n",
       "      <td>@VirginAmerica it was amazing, and arrived an hour early. you are too good to me.</td>\n",
       "    </tr>\n",
       "  </tbody>\n",
       "</table>\n",
       "</div>"
      ],
      "text/plain": [
       "  airline_sentiment  \\\n",
       "0           neutral   \n",
       "1          positive   \n",
       "2           neutral   \n",
       "3          negative   \n",
       "4          negative   \n",
       "5          negative   \n",
       "6          positive   \n",
       "7           neutral   \n",
       "8          positive   \n",
       "9          positive   \n",
       "\n",
       "                                                                                                                                         text  \n",
       "0                                                                                                         @VirginAmerica What @dhepburn said.  \n",
       "1                                                                  @VirginAmerica plus you have added commercials to the experience... tacky.  \n",
       "2                                                                    @VirginAmerica I did not today... Must mean I need to take another trip!  \n",
       "3                 @VirginAmerica it is really aggressive to blast obnoxious \"entertainment\" in your guests' faces & they have little recourse  \n",
       "4                                                                                    @VirginAmerica and it is a really big bad thing about it  \n",
       "5  @VirginAmerica seriously would pay $30 a flight for seats that did not have this playing.\\nit is really the only bad thing about flying VA  \n",
       "6                                                          @VirginAmerica yes, nearly every time I fly VX this “ear worm” will not go away :)  \n",
       "7                                @VirginAmerica Really missed a prime opportunity for Men Without Hats parody, there. https://t.co/mWpG7grEZP  \n",
       "8                                                                                            @virginamerica Well, I did not…but NOW I DO! :-D  \n",
       "9                                                           @VirginAmerica it was amazing, and arrived an hour early. you are too good to me.  "
      ]
     },
     "execution_count": 12,
     "metadata": {},
     "output_type": "execute_result"
    }
   ],
   "source": [
    "# Remove contractions\n",
    "import contractions\n",
    "def replace_contractions(text):\n",
    "    return contractions.fix(text)\n",
    "\n",
    "tweets_a['text'] = tweets_a['text'].apply(lambda x: replace_contractions(x))\n",
    "tweets_a.head(10)"
   ]
  },
  {
   "cell_type": "code",
   "execution_count": 13,
   "metadata": {},
   "outputs": [
    {
     "data": {
      "text/html": [
       "<div>\n",
       "<style scoped>\n",
       "    .dataframe tbody tr th:only-of-type {\n",
       "        vertical-align: middle;\n",
       "    }\n",
       "\n",
       "    .dataframe tbody tr th {\n",
       "        vertical-align: top;\n",
       "    }\n",
       "\n",
       "    .dataframe thead th {\n",
       "        text-align: right;\n",
       "    }\n",
       "</style>\n",
       "<table border=\"1\" class=\"dataframe\">\n",
       "  <thead>\n",
       "    <tr style=\"text-align: right;\">\n",
       "      <th></th>\n",
       "      <th>airline_sentiment</th>\n",
       "      <th>text</th>\n",
       "    </tr>\n",
       "  </thead>\n",
       "  <tbody>\n",
       "    <tr>\n",
       "      <th>0</th>\n",
       "      <td>neutral</td>\n",
       "      <td>[@VirginAmerica, What, @dhepburn, said, .]</td>\n",
       "    </tr>\n",
       "    <tr>\n",
       "      <th>1</th>\n",
       "      <td>positive</td>\n",
       "      <td>[@VirginAmerica, plus, you, have, added, commercials, to, the, experience, ..., tacky, .]</td>\n",
       "    </tr>\n",
       "    <tr>\n",
       "      <th>2</th>\n",
       "      <td>neutral</td>\n",
       "      <td>[@VirginAmerica, I, did, not, today, ..., Must, mean, I, need, to, take, another, trip, !]</td>\n",
       "    </tr>\n",
       "    <tr>\n",
       "      <th>3</th>\n",
       "      <td>negative</td>\n",
       "      <td>[@VirginAmerica, it, is, really, aggressive, to, blast, obnoxious, \", entertainment, \", in, your, guests, ', faces, &amp;amp;, they, have, little, recourse]</td>\n",
       "    </tr>\n",
       "    <tr>\n",
       "      <th>4</th>\n",
       "      <td>negative</td>\n",
       "      <td>[@VirginAmerica, and, it, is, a, really, big, bad, thing, about, it]</td>\n",
       "    </tr>\n",
       "    <tr>\n",
       "      <th>...</th>\n",
       "      <td>...</td>\n",
       "      <td>...</td>\n",
       "    </tr>\n",
       "    <tr>\n",
       "      <th>14635</th>\n",
       "      <td>positive</td>\n",
       "      <td>[@AmericanAir, thank, you, we, got, on, a, different, flight, to, Chicago, .]</td>\n",
       "    </tr>\n",
       "    <tr>\n",
       "      <th>14636</th>\n",
       "      <td>negative</td>\n",
       "      <td>[@AmericanAir, leaving, over, 20, minutes, Late, Flight., No, warnings, or, communication, until, we, were, 15, minutes, Late, Flight., that, is, called, shitty, customer, svc]</td>\n",
       "    </tr>\n",
       "    <tr>\n",
       "      <th>14637</th>\n",
       "      <td>neutral</td>\n",
       "      <td>[@AmericanAir, Please, bring, American, Airlines, to, #BlackBerry10]</td>\n",
       "    </tr>\n",
       "    <tr>\n",
       "      <th>14638</th>\n",
       "      <td>negative</td>\n",
       "      <td>[@AmericanAir, you, have, my, money, ,, you, change, my, flight, ,, and, do, not, answer, your, phones, !, Any, other, suggestions, so, I, can, make, my, commitment?, ?]</td>\n",
       "    </tr>\n",
       "    <tr>\n",
       "      <th>14639</th>\n",
       "      <td>neutral</td>\n",
       "      <td>[@AmericanAir, we, have, 8, ppl, so, we, need, 2, know, how, many, seats, are, on, the, next, flight., Plz, put, us, on, standby, for, 4, people, on, the, next, flight, ?]</td>\n",
       "    </tr>\n",
       "  </tbody>\n",
       "</table>\n",
       "<p>14640 rows × 2 columns</p>\n",
       "</div>"
      ],
      "text/plain": [
       "      airline_sentiment  \\\n",
       "0               neutral   \n",
       "1              positive   \n",
       "2               neutral   \n",
       "3              negative   \n",
       "4              negative   \n",
       "...                 ...   \n",
       "14635          positive   \n",
       "14636          negative   \n",
       "14637           neutral   \n",
       "14638          negative   \n",
       "14639           neutral   \n",
       "\n",
       "                                                                                                                                                                                   text  \n",
       "0                                                                                                                                            [@VirginAmerica, What, @dhepburn, said, .]  \n",
       "1                                                                                             [@VirginAmerica, plus, you, have, added, commercials, to, the, experience, ..., tacky, .]  \n",
       "2                                                                                            [@VirginAmerica, I, did, not, today, ..., Must, mean, I, need, to, take, another, trip, !]  \n",
       "3                              [@VirginAmerica, it, is, really, aggressive, to, blast, obnoxious, \", entertainment, \", in, your, guests, ', faces, &amp;, they, have, little, recourse]  \n",
       "4                                                                                                                  [@VirginAmerica, and, it, is, a, really, big, bad, thing, about, it]  \n",
       "...                                                                                                                                                                                 ...  \n",
       "14635                                                                                                     [@AmericanAir, thank, you, we, got, on, a, different, flight, to, Chicago, .]  \n",
       "14636  [@AmericanAir, leaving, over, 20, minutes, Late, Flight., No, warnings, or, communication, until, we, were, 15, minutes, Late, Flight., that, is, called, shitty, customer, svc]  \n",
       "14637                                                                                                              [@AmericanAir, Please, bring, American, Airlines, to, #BlackBerry10]  \n",
       "14638         [@AmericanAir, you, have, my, money, ,, you, change, my, flight, ,, and, do, not, answer, your, phones, !, Any, other, suggestions, so, I, can, make, my, commitment?, ?]  \n",
       "14639       [@AmericanAir, we, have, 8, ppl, so, we, need, 2, know, how, many, seats, are, on, the, next, flight., Plz, put, us, on, standby, for, 4, people, on, the, next, flight, ?]  \n",
       "\n",
       "[14640 rows x 2 columns]"
      ]
     },
     "execution_count": 13,
     "metadata": {},
     "output_type": "execute_result"
    }
   ],
   "source": [
    "# b. Tokenization.\n",
    "tokenizer=ToktokTokenizer()\n",
    "\n",
    "def tokenization(text):\n",
    "    token = tokenizer.tokenize(text)\n",
    "    return token\n",
    "    \n",
    "    \n",
    "tweets_b = tweets_a.copy()\n",
    "tweets_b['text'] = tweets_b['text'].apply(lambda x: tokenization(x))\n",
    "tweets_b"
   ]
  },
  {
   "cell_type": "code",
   "execution_count": null,
   "metadata": {},
   "outputs": [],
   "source": []
  },
  {
   "cell_type": "code",
   "execution_count": 14,
   "metadata": {},
   "outputs": [
    {
     "data": {
      "text/html": [
       "<div>\n",
       "<style scoped>\n",
       "    .dataframe tbody tr th:only-of-type {\n",
       "        vertical-align: middle;\n",
       "    }\n",
       "\n",
       "    .dataframe tbody tr th {\n",
       "        vertical-align: top;\n",
       "    }\n",
       "\n",
       "    .dataframe thead th {\n",
       "        text-align: right;\n",
       "    }\n",
       "</style>\n",
       "<table border=\"1\" class=\"dataframe\">\n",
       "  <thead>\n",
       "    <tr style=\"text-align: right;\">\n",
       "      <th></th>\n",
       "      <th>airline_sentiment</th>\n",
       "      <th>text</th>\n",
       "    </tr>\n",
       "  </thead>\n",
       "  <tbody>\n",
       "    <tr>\n",
       "      <th>0</th>\n",
       "      <td>neutral</td>\n",
       "      <td>VirginAmerica What dhepburn said</td>\n",
       "    </tr>\n",
       "    <tr>\n",
       "      <th>1</th>\n",
       "      <td>positive</td>\n",
       "      <td>VirginAmerica plus you have added commercials to the experience tacky</td>\n",
       "    </tr>\n",
       "    <tr>\n",
       "      <th>2</th>\n",
       "      <td>neutral</td>\n",
       "      <td>VirginAmerica I did not today Must mean I need to take another trip</td>\n",
       "    </tr>\n",
       "    <tr>\n",
       "      <th>3</th>\n",
       "      <td>negative</td>\n",
       "      <td>VirginAmerica it is really aggressive to blast obnoxious entertainment in your guests faces  they have little recourse</td>\n",
       "    </tr>\n",
       "    <tr>\n",
       "      <th>4</th>\n",
       "      <td>negative</td>\n",
       "      <td>VirginAmerica and it is a really big bad thing about it</td>\n",
       "    </tr>\n",
       "    <tr>\n",
       "      <th>5</th>\n",
       "      <td>negative</td>\n",
       "      <td>VirginAmerica seriously would pay  a flight for seats that did not have this playing\\nit is really the only bad thing about flying VA</td>\n",
       "    </tr>\n",
       "    <tr>\n",
       "      <th>6</th>\n",
       "      <td>positive</td>\n",
       "      <td>VirginAmerica yes nearly every time I fly VX this ear worm will not go away</td>\n",
       "    </tr>\n",
       "    <tr>\n",
       "      <th>7</th>\n",
       "      <td>neutral</td>\n",
       "      <td>VirginAmerica Really missed a prime opportunity for Men Without Hats parody there httpstcomWpGgrEZP</td>\n",
       "    </tr>\n",
       "    <tr>\n",
       "      <th>8</th>\n",
       "      <td>positive</td>\n",
       "      <td>virginamerica Well I did notbut NOW I DO D</td>\n",
       "    </tr>\n",
       "    <tr>\n",
       "      <th>9</th>\n",
       "      <td>positive</td>\n",
       "      <td>VirginAmerica it was amazing and arrived an hour early you are too good to me</td>\n",
       "    </tr>\n",
       "  </tbody>\n",
       "</table>\n",
       "</div>"
      ],
      "text/plain": [
       "  airline_sentiment  \\\n",
       "0           neutral   \n",
       "1          positive   \n",
       "2           neutral   \n",
       "3          negative   \n",
       "4          negative   \n",
       "5          negative   \n",
       "6          positive   \n",
       "7           neutral   \n",
       "8          positive   \n",
       "9          positive   \n",
       "\n",
       "                                                                                                                                    text  \n",
       "0                                                                                                       VirginAmerica What dhepburn said  \n",
       "1                                                                  VirginAmerica plus you have added commercials to the experience tacky  \n",
       "2                                                                    VirginAmerica I did not today Must mean I need to take another trip  \n",
       "3                 VirginAmerica it is really aggressive to blast obnoxious entertainment in your guests faces  they have little recourse  \n",
       "4                                                                                VirginAmerica and it is a really big bad thing about it  \n",
       "5  VirginAmerica seriously would pay  a flight for seats that did not have this playing\\nit is really the only bad thing about flying VA  \n",
       "6                                                           VirginAmerica yes nearly every time I fly VX this ear worm will not go away   \n",
       "7                                    VirginAmerica Really missed a prime opportunity for Men Without Hats parody there httpstcomWpGgrEZP  \n",
       "8                                                                                             virginamerica Well I did notbut NOW I DO D  \n",
       "9                                                          VirginAmerica it was amazing and arrived an hour early you are too good to me  "
      ]
     },
     "execution_count": 14,
     "metadata": {},
     "output_type": "execute_result"
    }
   ],
   "source": [
    "# c & d. Remove the numbers.\n",
    "def remove_num_specialChar(text, remove_digits=False):\n",
    "    pattern = r'[^a-zA-z0-9\\s]' if not remove_digits else r'[^a-zA-z\\s]'\n",
    "    text = re.sub(pattern, '', text)\n",
    "    return text\n",
    "\n",
    "tweets_d = tweets_a.copy()\n",
    "tweets_d['text'] = tweets_d['text'].apply(lambda x: remove_num_specialChar(x,remove_digits=True))\n",
    "tweets_d.head(10)                          "
   ]
  },
  {
   "cell_type": "code",
   "execution_count": 15,
   "metadata": {},
   "outputs": [
    {
     "data": {
      "text/html": [
       "<div>\n",
       "<style scoped>\n",
       "    .dataframe tbody tr th:only-of-type {\n",
       "        vertical-align: middle;\n",
       "    }\n",
       "\n",
       "    .dataframe tbody tr th {\n",
       "        vertical-align: top;\n",
       "    }\n",
       "\n",
       "    .dataframe thead th {\n",
       "        text-align: right;\n",
       "    }\n",
       "</style>\n",
       "<table border=\"1\" class=\"dataframe\">\n",
       "  <thead>\n",
       "    <tr style=\"text-align: right;\">\n",
       "      <th></th>\n",
       "      <th>airline_sentiment</th>\n",
       "      <th>text</th>\n",
       "    </tr>\n",
       "  </thead>\n",
       "  <tbody>\n",
       "    <tr>\n",
       "      <th>0</th>\n",
       "      <td>neutral</td>\n",
       "      <td>[VirginAmerica, What, dhepburn, said]</td>\n",
       "    </tr>\n",
       "    <tr>\n",
       "      <th>1</th>\n",
       "      <td>positive</td>\n",
       "      <td>[VirginAmerica, plus, you, have, added, commercials, to, the, experience, tacky]</td>\n",
       "    </tr>\n",
       "    <tr>\n",
       "      <th>2</th>\n",
       "      <td>neutral</td>\n",
       "      <td>[VirginAmerica, I, did, not, today, Must, mean, I, need, to, take, another, trip]</td>\n",
       "    </tr>\n",
       "    <tr>\n",
       "      <th>3</th>\n",
       "      <td>negative</td>\n",
       "      <td>[VirginAmerica, it, is, really, aggressive, to, blast, obnoxious, entertainment, in, your, guests, faces, they, have, little, recourse]</td>\n",
       "    </tr>\n",
       "    <tr>\n",
       "      <th>4</th>\n",
       "      <td>negative</td>\n",
       "      <td>[VirginAmerica, and, it, is, a, really, big, bad, thing, about, it]</td>\n",
       "    </tr>\n",
       "    <tr>\n",
       "      <th>...</th>\n",
       "      <td>...</td>\n",
       "      <td>...</td>\n",
       "    </tr>\n",
       "    <tr>\n",
       "      <th>14635</th>\n",
       "      <td>positive</td>\n",
       "      <td>[AmericanAir, thank, you, we, got, on, a, different, flight, to, Chicago]</td>\n",
       "    </tr>\n",
       "    <tr>\n",
       "      <th>14636</th>\n",
       "      <td>negative</td>\n",
       "      <td>[AmericanAir, leaving, over, minutes, Late, Flight, No, warnings, or, communication, until, we, were, minutes, Late, Flight, that, is, called, shitty, customer, svc]</td>\n",
       "    </tr>\n",
       "    <tr>\n",
       "      <th>14637</th>\n",
       "      <td>neutral</td>\n",
       "      <td>[AmericanAir, Please, bring, American, Airlines, to, BlackBerry]</td>\n",
       "    </tr>\n",
       "    <tr>\n",
       "      <th>14638</th>\n",
       "      <td>negative</td>\n",
       "      <td>[AmericanAir, you, have, my, money, you, change, my, flight, and, do, not, answer, your, phones, Any, other, suggestions, so, I, can, make, my, commitment]</td>\n",
       "    </tr>\n",
       "    <tr>\n",
       "      <th>14639</th>\n",
       "      <td>neutral</td>\n",
       "      <td>[AmericanAir, we, have, ppl, so, we, need, know, how, many, seats, are, on, the, next, flight, Plz, put, us, on, standby, for, people, on, the, next, flight]</td>\n",
       "    </tr>\n",
       "  </tbody>\n",
       "</table>\n",
       "<p>14640 rows × 2 columns</p>\n",
       "</div>"
      ],
      "text/plain": [
       "      airline_sentiment  \\\n",
       "0               neutral   \n",
       "1              positive   \n",
       "2               neutral   \n",
       "3              negative   \n",
       "4              negative   \n",
       "...                 ...   \n",
       "14635          positive   \n",
       "14636          negative   \n",
       "14637           neutral   \n",
       "14638          negative   \n",
       "14639           neutral   \n",
       "\n",
       "                                                                                                                                                                        text  \n",
       "0                                                                                                                                      [VirginAmerica, What, dhepburn, said]  \n",
       "1                                                                                           [VirginAmerica, plus, you, have, added, commercials, to, the, experience, tacky]  \n",
       "2                                                                                          [VirginAmerica, I, did, not, today, Must, mean, I, need, to, take, another, trip]  \n",
       "3                                    [VirginAmerica, it, is, really, aggressive, to, blast, obnoxious, entertainment, in, your, guests, faces, they, have, little, recourse]  \n",
       "4                                                                                                        [VirginAmerica, and, it, is, a, really, big, bad, thing, about, it]  \n",
       "...                                                                                                                                                                      ...  \n",
       "14635                                                                                              [AmericanAir, thank, you, we, got, on, a, different, flight, to, Chicago]  \n",
       "14636  [AmericanAir, leaving, over, minutes, Late, Flight, No, warnings, or, communication, until, we, were, minutes, Late, Flight, that, is, called, shitty, customer, svc]  \n",
       "14637                                                                                                       [AmericanAir, Please, bring, American, Airlines, to, BlackBerry]  \n",
       "14638            [AmericanAir, you, have, my, money, you, change, my, flight, and, do, not, answer, your, phones, Any, other, suggestions, so, I, can, make, my, commitment]  \n",
       "14639          [AmericanAir, we, have, ppl, so, we, need, know, how, many, seats, are, on, the, next, flight, Plz, put, us, on, standby, for, people, on, the, next, flight]  \n",
       "\n",
       "[14640 rows x 2 columns]"
      ]
     },
     "execution_count": 15,
     "metadata": {},
     "output_type": "execute_result"
    }
   ],
   "source": [
    "# b. Tokenization.\n",
    "tokenizer=ToktokTokenizer()\n",
    "\n",
    "def tokenization(text):\n",
    "    token = tokenizer.tokenize(text)\n",
    "    return token\n",
    "    \n",
    "    \n",
    "tweets_b = tweets_d.copy()\n",
    "tweets_b['text'] = tweets_b['text'].apply(lambda x: tokenization(x))\n",
    "tweets_b"
   ]
  },
  {
   "cell_type": "code",
   "execution_count": 16,
   "metadata": {},
   "outputs": [
    {
     "name": "stdout",
     "output_type": "stream",
     "text": [
      "['i', 'me', 'my', 'myself', 'we', 'our', 'ours', 'ourselves', 'you', \"you're\", \"you've\", \"you'll\", \"you'd\", 'your', 'yours', 'yourself', 'yourselves', 'he', 'him', 'his', 'himself', 'she', \"she's\", 'her', 'hers', 'herself', 'it', \"it's\", 'its', 'itself', 'they', 'them', 'their', 'theirs', 'themselves', 'what', 'which', 'who', 'whom', 'this', 'that', \"that'll\", 'these', 'those', 'am', 'is', 'are', 'was', 'were', 'be', 'been', 'being', 'have', 'has', 'had', 'having', 'do', 'does', 'did', 'doing', 'a', 'an', 'the', 'and', 'but', 'if', 'or', 'because', 'as', 'until', 'while', 'of', 'at', 'by', 'for', 'with', 'about', 'against', 'between', 'into', 'through', 'during', 'before', 'after', 'above', 'below', 'to', 'from', 'up', 'down', 'in', 'out', 'on', 'off', 'over', 'under', 'again', 'further', 'then', 'once', 'here', 'there', 'when', 'where', 'why', 'how', 'all', 'any', 'both', 'each', 'few', 'more', 'most', 'other', 'some', 'such', 'no', 'nor', 'not', 'only', 'own', 'same', 'so', 'than', 'too', 'very', 's', 't', 'can', 'will', 'just', 'don', \"don't\", 'should', \"should've\", 'now', 'd', 'll', 'm', 'o', 're', 've', 'y', 'ain', 'aren', \"aren't\", 'couldn', \"couldn't\", 'didn', \"didn't\", 'doesn', \"doesn't\", 'hadn', \"hadn't\", 'hasn', \"hasn't\", 'haven', \"haven't\", 'isn', \"isn't\", 'ma', 'mightn', \"mightn't\", 'mustn', \"mustn't\", 'needn', \"needn't\", 'shan', \"shan't\", 'shouldn', \"shouldn't\", 'wasn', \"wasn't\", 'weren', \"weren't\", 'won', \"won't\", 'wouldn', \"wouldn't\"]\n"
     ]
    }
   ],
   "source": [
    "# create stop words list\n",
    "\n",
    "sw = stopwords.words('english')\n",
    "print(sw)"
   ]
  },
  {
   "cell_type": "code",
   "execution_count": null,
   "metadata": {},
   "outputs": [],
   "source": []
  },
  {
   "cell_type": "code",
   "execution_count": 17,
   "metadata": {},
   "outputs": [
    {
     "name": "stdout",
     "output_type": "stream",
     "text": [
      "['i', \"you're\", \"you'd\", 'other', 'whom', 'been', 'very', 'it', 'had', 'or', 'did', 'that', 'on', 'do', 'up', 'through', 'his', 'theirs', 'just', \"that'll\", 'a', 'were', 'until', 'if', 'm', 'again', 'couldn', 'against', 'themselves', 'from', 'y', 'while', 'aren', 'him', 'you', 'above', 't', 'own', 'over', 'no', \"don't\", 'd', 'so', 'then', 'be', 'o', 'where', 'into', \"aren't\", 'their', 'few', 'only', 'am', 'the', 'her', 'as', 'don', 'we', 'me', 'does', 'to', 'further', 'my', 'than', 'ours', 'off', 'he', 'yourselves', \"you've\", 'with', 'this', 'each', 'which', 'who', \"she's\", \"should've\", 'these', 'more', 'both', 'myself', 'being', 've', 'out', 'how', 'is', 'below', 'such', 'your', 'between', 'but', 'what', 'an', 'those', 'and', 'because', 'here', 'should', 'itself', 'are', \"you'll\", 'have', 'yours', 'of', 'will', 'during', 're', 'after', 'there', 'has', 'll', 'she', 'them', \"it's\", 'hers', 'why', 'once', 'for', 'herself', 'was', 'nor', 's', 'doing', 'when', 'our', 'in', 'about', 'having', 'ain', 'its', 'down', 'too', 'ourselves', 'all', 'any', 'at', 'yourself', 'they', 'under', 'can', 'by', 'now', 'same', 'himself', 'most', 'some', 'before']\n"
     ]
    }
   ],
   "source": [
    "# create list of excepted negation words like \"not,isn't,etc..\" as these words are important to define the sentiments .\n",
    "myList = ['not', \"couldn't\", 'didn', \"didn't\", 'doesn', \"doesn't\", 'hadn', \"hadn't\", 'hasn',\n",
    "        \"hasn't\", 'haven', \"haven't\", 'isn', \"isn't\", 'ma', 'mightn', \"mightn't\", 'mustn',\n",
    "        \"mustn't\", 'needn', \"needn't\", 'shan', \"shan't\", 'shouldn', \"shouldn't\", 'wasn',\n",
    "        \"wasn't\", 'weren', \"weren't\", 'won', \"won't\", 'wouldn', \"wouldn't\"]\n",
    "\n",
    "stopswords = list(set(sw) - set(myList))\n",
    "print(stopswords)"
   ]
  },
  {
   "cell_type": "code",
   "execution_count": 18,
   "metadata": {},
   "outputs": [
    {
     "data": {
      "text/html": [
       "<div>\n",
       "<style scoped>\n",
       "    .dataframe tbody tr th:only-of-type {\n",
       "        vertical-align: middle;\n",
       "    }\n",
       "\n",
       "    .dataframe tbody tr th {\n",
       "        vertical-align: top;\n",
       "    }\n",
       "\n",
       "    .dataframe thead th {\n",
       "        text-align: right;\n",
       "    }\n",
       "</style>\n",
       "<table border=\"1\" class=\"dataframe\">\n",
       "  <thead>\n",
       "    <tr style=\"text-align: right;\">\n",
       "      <th></th>\n",
       "      <th>airline_sentiment</th>\n",
       "      <th>text</th>\n",
       "    </tr>\n",
       "  </thead>\n",
       "  <tbody>\n",
       "    <tr>\n",
       "      <th>0</th>\n",
       "      <td>neutral</td>\n",
       "      <td>virginamerica dhepburn say</td>\n",
       "    </tr>\n",
       "    <tr>\n",
       "      <th>1</th>\n",
       "      <td>positive</td>\n",
       "      <td>virginamerica plus add commercials experience tacky</td>\n",
       "    </tr>\n",
       "    <tr>\n",
       "      <th>2</th>\n",
       "      <td>neutral</td>\n",
       "      <td>virginamerica not today must mean need take another trip</td>\n",
       "    </tr>\n",
       "    <tr>\n",
       "      <th>3</th>\n",
       "      <td>negative</td>\n",
       "      <td>virginamerica really aggressive blast obnoxious entertainment guests face little recourse</td>\n",
       "    </tr>\n",
       "    <tr>\n",
       "      <th>4</th>\n",
       "      <td>negative</td>\n",
       "      <td>virginamerica really big bad thing</td>\n",
       "    </tr>\n",
       "  </tbody>\n",
       "</table>\n",
       "</div>"
      ],
      "text/plain": [
       "  airline_sentiment  \\\n",
       "0           neutral   \n",
       "1          positive   \n",
       "2           neutral   \n",
       "3          negative   \n",
       "4          negative   \n",
       "\n",
       "                                                                                        text  \n",
       "0                                                                 virginamerica dhepburn say  \n",
       "1                                        virginamerica plus add commercials experience tacky  \n",
       "2                                   virginamerica not today must mean need take another trip  \n",
       "3  virginamerica really aggressive blast obnoxious entertainment guests face little recourse  \n",
       "4                                                         virginamerica really big bad thing  "
      ]
     },
     "execution_count": 18,
     "metadata": {},
     "output_type": "execute_result"
    }
   ],
   "source": [
    "# Remove accented characters, convert to lower case, remove punctuation, remove stopwords, Lemmatization,\n",
    "# Join the words in the list to convert back to text string \n",
    "from nltk.stem.wordnet import WordNetLemmatizer \n",
    "lemmatizer = WordNetLemmatizer()\n",
    "\n",
    "def remove_non_ascii(words):\n",
    "    new_words = []\n",
    "    for word in words:\n",
    "        new_word = unicodedata.normalize('NFKD', word).encode('ascii', 'ignore').decode('utf-8', 'ignore')\n",
    "        new_words.append(new_word)\n",
    "    return new_words\n",
    "\n",
    "def to_lowercase(words):\n",
    "    new_words = []\n",
    "    for word in words:\n",
    "        new_word = word.lower()\n",
    "        new_words.append(new_word)\n",
    "    return new_words\n",
    "\n",
    "def remove_punctuation(words):\n",
    "    new_words = []\n",
    "    for word in words:\n",
    "        new_word = re.sub(r'[^\\w\\s]', '', word)\n",
    "        if new_word != '':\n",
    "            new_words.append(new_word)\n",
    "    return new_words\n",
    "\n",
    "def remove_stopwords(words):\n",
    "    new_words = []\n",
    "    for word in words:\n",
    "        if word not in stopswords:\n",
    "            new_words.append(word)\n",
    "    return new_words\n",
    "\n",
    "def lemmatize_list(words):\n",
    "    new_words = []\n",
    "    for word in words:\n",
    "        new_words.append(lemmatizer.lemmatize(word, pos='v'))\n",
    "    return new_words\n",
    "\n",
    "def normalize(words):\n",
    "    words = remove_non_ascii(words)\n",
    "    words = to_lowercase(words)\n",
    "    words = remove_punctuation(words)\n",
    "    words = remove_stopwords(words)\n",
    "    words = lemmatize_list(words)\n",
    "    return ' '.join(words)\n",
    "\n",
    "tweets_b['text'] = tweets_b.apply(lambda row: normalize(row['text']), axis=1)\n",
    "tweets_b.head(5)"
   ]
  },
  {
   "cell_type": "code",
   "execution_count": 19,
   "metadata": {},
   "outputs": [],
   "source": [
    "# make copy of the processed data\n",
    "tweets_final = tweets_b.copy()"
   ]
  },
  {
   "cell_type": "markdown",
   "metadata": {},
   "source": [
    "# 4. Vectorization: "
   ]
  },
  {
   "cell_type": "code",
   "execution_count": 20,
   "metadata": {},
   "outputs": [],
   "source": [
    "# a. Use CountVectorizer.\n",
    "\n",
    "# Keep only 2000 features to reduce processing time.\n",
    "vectorizer = CountVectorizer(max_features=2000)               \n",
    "tweets_CountVectorizer = vectorizer.fit_transform(tweets_final['text'])\n",
    "# Convert the data features to array.\n",
    "tweets_CountVectorizer = tweets_CountVectorizer.toarray()                        "
   ]
  },
  {
   "cell_type": "code",
   "execution_count": 21,
   "metadata": {},
   "outputs": [
    {
     "data": {
      "text/plain": [
       "(14640, 2000)"
      ]
     },
     "execution_count": 21,
     "metadata": {},
     "output_type": "execute_result"
    }
   ],
   "source": [
    "tweets_CountVectorizer.shape"
   ]
  },
  {
   "cell_type": "code",
   "execution_count": 22,
   "metadata": {},
   "outputs": [
    {
     "name": "stdout",
     "output_type": "stream",
     "text": [
      "2000\n",
      "{'virginamerica': 1889, 'say': 1540, 'plus': 1334, 'add': 26, 'experience': 637, 'not': 1197, 'today': 1777, 'must': 1162, 'mean': 1094, 'need': 1174, 'take': 1721, 'another': 88, 'trip': 1808, 'really': 1423, 'entertainment': 596, 'face': 650, 'little': 1030, 'big': 206, 'bad': 165, 'thing': 1750, 'seriously': 1566, 'would': 1969, 'pay': 1286, 'flight': 706, 'seat': 1550, 'play': 1329, 'fly': 722, 'va': 1878, 'yes': 1986, 'nearly': 1173, 'every': 614, 'time': 1770, 'vx': 1899, 'go': 788, 'away': 157, 'miss': 1136, 'opportunity': 1239, 'without': 1953, 'hat': 822, 'well': 1929, 'amaze': 75, 'arrive': 118, 'hour': 866, 'early': 564, 'good': 793, 'know': 979, 'suicide': 1695, 'second': 1552, 'lead': 1003, 'death': 467, 'among': 80, 'teens': 1733, 'pretty': 1364, 'much': 1159, 'better': 202, 'great': 797, 'deal': 465, 'already': 69, 'think': 1752, 'nd': 1170, 'australia': 144, 'even': 610, 'st': 1656, 'yet': 1988, 'fabulous': 649, 'sky': 1610, 'stress': 1682, 'travel': 1802, 'thank': 1747, 'schedule': 1544, 'still': 1673, 'mia': 1114, 'excite': 626, 'first': 695, 'cross': 427, 'country': 411, 'lax': 999, 'mco': 1089, 'hear': 826, 'nothing': 1201, 'things': 1751, 'virgin': 1888, 'america': 76, 'nyc': 1209, 'sfo': 1573, 'last': 994, 'week': 1923, 'could': 408, 'fully': 762, 'sit': 1602, 'due': 559, 'two': 1826, 'large': 992, 'either': 575, 'side': 1591, 'help': 833, 'awesome': 158, 'please': 1331, 'want': 1906, 'fare': 663, 'may': 1086, 'three': 1759, 'carriers': 277, 'available': 150, 'select': 1559, 'love': 1052, 'feel': 677, 'brand': 233, 'make': 1071, 'non': 1190, 'stop': 1676, 'anytime': 94, 'soon': 1634, 'guy': 807, 'mess': 1108, 'reserve': 1483, 'friends': 753, 'give': 784, 'free': 746, 'internet': 934, 'status': 1666, 'match': 1084, 'program': 1380, 'apply': 107, 'weeks': 1925, 'call': 261, 'email': 580, 'response': 1489, 'happen': 815, 'ur': 1866, 'food': 731, 'options': 1241, 'least': 1005, 'site': 1603, 'able': 3, 'eat': 571, 'anything': 93, 'next': 1181, 'hrs': 873, 'fail': 652, 'worry': 1962, 'together': 1780, 'get': 778, 'cold': 348, 'air': 50, 'ewr': 617, 'middle': 1116, 'red': 1436, 'eye': 646, 'hi': 837, 'cool': 399, 'birthday': 212, 'elevate': 576, 'enter': 594, 'name': 1164, 'book': 226, 'problems': 1375, 'hours': 867, 'club': 338, 'post': 1350, 'online': 1232, 'current': 437, 'leave': 1006, 'expensive': 636, 'iad': 885, 'one': 1228, 'answer': 89, 'number': 1206, 'await': 154, 'return': 1496, 'phone': 1310, 'prefer': 1359, 'use': 1873, 'option': 1240, 'news': 1180, 'start': 1663, 'hawaii': 824, 'end': 587, 'year': 1982, 'via': 1885, 'nice': 1183, 'rt': 1521, 'takeoff': 1722, 'way': 1914, 'best': 200, 'ever': 613, 'do': 540, 'airline': 55, 'around': 114, 'hand': 811, 'chat': 309, 'support': 1704, 'work': 1959, 'view': 1887, 'sign': 1594, 'beyond': 203, 'hey': 836, 'flyer': 723, 'hard': 818, 'account': 17, 'plz': 1335, 'win': 1945, 'upgrade': 1863, 'unused': 1860, 'ticket': 1766, 'move': 1153, 'new': 1178, 'city': 324, 'expire': 638, 'dallas': 450, 'seattle': 1551, 'feb': 673, 'reason': 1424, 'rock': 1511, 'dream': 554, 'wow': 1971, 'blow': 220, 'mind': 1127, 'ladygaga': 986, 'carrieunderwood': 278, 'night': 1184, 'oscars': 1247, 'agree': 46, 'entertain': 595, 'suppose': 1705, 'minutes': 1133, 'ago': 45, 'website': 1920, 'show': 1587, 'though': 1756, 'impressive': 901, 'wish': 1951, 'atlanta': 131, 'la': 983, 'february': 674, 'th': 1746, 'try': 1815, 'since': 1598, 'page': 1263, 'never': 1176, 'load': 1033, 'thx': 1764, 'lady': 985, 'market': 1083, 'song': 1632, 'let': 1012, 'us': 1867, 'sorry': 1636, 'beat': 189, 'dal': 449, 'dca': 462, 'pm': 1336, 'check': 312, 'someone': 1627, 'hold': 847, 'earlier': 563, 'tonight': 1785, 'congrats': 385, 'award': 155, 'everything': 616, 'fine': 691, 'lose': 1046, 'bag': 171, 'change': 300, 'reservation': 1481, 'credit': 425, 'card': 273, 'waive': 1901, 'fee': 675, 'customer': 440, 'service': 1569, 'team': 1729, 'track': 1794, 'baggage': 172, 'step': 1670, 'game': 771, 'dirty': 519, 'table': 1717, 'floor': 718, 'ride': 1503, 'plane': 1325, 'crew': 426, 'airlines': 56, 'like': 1022, 'morning': 1150, 'correct': 403, 'bill': 208, 'watch': 1911, 'student': 1686, 'film': 687, 'feet': 678, 'different': 514, 'media': 1098, 'anyway': 95, 'speak': 1645, 'human': 877, 'possible': 1348, 'biz': 214, 'traveler': 1803, 'southwestair': 1641, 'jetblue': 955, 'member': 1101, 'inflight': 922, 'interest': 932, 'whenever': 1935, 'delay': 479, 'late': 995, 'cancel': 267, 'four': 742, 'disappoint': 521, 'share': 1576, 'business': 251, 'meet': 1100, 'trouble': 1809, 'wife': 1941, 'bring': 237, 'code': 346, 'bet': 201, 'life': 1019, 'home': 850, 'back': 163, 'yeah': 1981, 'point': 1338, 'recent': 1430, 'tv': 1821, 'video': 1886, 'flightled': 712, 'jfk': 958, 'saturday': 1536, 'land': 989, 'friendly': 752, 'redirect': 1439, 'btw': 241, 'mobile': 1139, 'scan': 1542, 'passengers': 1278, 'tell': 1736, 'remove': 1461, 'class': 326, 'bin': 209, 'uncomfortable': 1839, 'find': 690, 'anyone': 92, 'useless': 1875, 'sf': 1572, 'thursday': 1763, 'music': 1161, 'direct': 517, 'unexpected': 1843, 'layover': 1000, 'vegas': 1883, 'fuel': 760, 'buy': 254, 'people': 1294, 'exp': 632, 'customerservice': 442, 'line': 1025, 'hang': 814, 'sarcasm': 1535, 'plain': 1323, 'text': 1745, 'info': 923, 'weather': 1918, 'look': 1044, 'getaway': 779, 'oneway': 1230, 'lot': 1048, 'cities': 323, 'come': 352, 'phl': 1307, 'horrible': 860, 'concern': 376, 'tech': 1731, 'comfortable': 353, 'rep': 1464, 'kick': 974, 'beautiful': 190, 'design': 495, 'right': 1505, 'bc': 185, 'secure': 1553, 'run': 1525, 'gate': 774, 'las': 993, 'wait': 1900, 'keep': 972, 'totally': 1788, 'folks': 729, 'problem': 1374, 'min': 1126, 'connect': 386, 'seem': 1557, 'long': 1042, 'outstanding': 1254, 'san': 1534, 'francisco': 743, 'absolute': 5, 'provide': 1389, 'complimentary': 373, 'completely': 371, 'month': 1148, 'nonstop': 1192, 'depart': 487, 'customers': 441, 'process': 1377, 'link': 1026, 'tsa': 1816, 'precheck': 1358, 'terrible': 1740, 'hotel': 863, 'cabo': 259, 'assistance': 127, 'yesterday': 1987, 'shame': 1574, 'register': 1449, 'dog': 542, 'dull': 560, 'queue': 1402, 'longer': 1043, 'pls': 1333, 'advise': 36, 'redcarpet': 1437, 'drop': 557, 'always': 74, 'create': 424, 'frustrate': 756, 'extra': 644, 'buck': 242, 'luggage': 1063, 'might': 1119, 'afford': 39, 'hire': 842, 'lame': 988, 'world': 1961, 'flt': 720, 'sooner': 1635, 'midnight': 1117, 'monday': 1145, 'imagine': 894, 'web': 1919, 'indicate': 918, 'staff': 1657, 'super': 1702, 'helpful': 834, 'premium': 1361, 'across': 21, 'offer': 1215, 'sad': 1527, 'question': 1401, 'infant': 921, 'welcome': 1928, 'dc': 461, 'refresh': 1444, 'understand': 1841, 'dm': 536, 'damage': 451, 'policy': 1341, 'destroy': 503, 'special': 1646, 'alone': 66, 'kid': 975, 'priority': 1370, 'board': 224, 'purchase': 1395, 'happy': 817, 'field': 682, 'definitely': 475, 'lga': 1015, 'dfw': 506, 'license': 1017, 'friday': 750, 'error': 601, 'contact': 394, 'minute': 1132, 'reschedule': 1480, 'button': 253, 'ring': 1506, 'fix': 699, 'tomorrow': 1781, 'unacceptable': 1836, 'stick': 1672, 'pair': 1265, 'include': 907, 'wine': 1948, 'white': 1937, 'agent': 43, 'silver': 1595, 'dulles_airport': 561, 'close': 335, 'assist': 126, 'plan': 1324, 'austin': 143, 'route': 1517, 'normal': 1195, 'receive': 1429, 'reply': 1469, 'central': 291, 'smh': 1615, 'logan': 1039, 'airport': 58, 'checkin': 313, 'desk': 496, 'open': 1235, 'jump': 969, 'daily': 448, 'begin': 193, 'april': 111, 'fuck': 759, 'unite': 1850, 'fl': 700, 'follow': 730, 'many': 1079, 'apologies': 98, 'worse': 1963, 'respond': 1488, 'spend': 1649, 'money': 1146, 'strand': 1680, 'reimburse': 1451, 'sjc': 1607, 'choice': 320, 'southwest': 1640, 'days': 460, 'confirmation': 382, 'claim': 325, 'bos': 227, 'notification': 1203, 'rebook': 1426, 'gold': 791, 'cmh': 340, 'throw': 1761, 'worst': 1964, 'stuff': 1687, 'wrong': 1973, 'issue': 942, 'item': 943, 'head': 825, 'americanairlines': 79, 'suck': 1691, 'dmd': 537, 'flightlation': 710, 'notice': 1202, 'ps': 1390, 'drive': 556, 'mon': 1144, 'boston': 228, 'stink': 1674, 'expect': 633, 'dance': 453, 'high': 839, 'school': 1545, 'quick': 1403, 'apparently': 103, 'faster': 665, 'send': 1562, 'picture': 1315, 'texas': 1744, 'ny': 1208, 'pilot': 1318, 'job': 960, 'snow': 1620, 'york': 1990, 'area': 112, 'afternoon': 40, 'row': 1518, 'mention': 1105, 'mechanical': 1096, 'handle': 812, 'drink': 555, 'twitter': 1825, 'kill': 976, 'charge': 304, 'refuse': 1447, 'refund': 1446, 'access': 13, 'iphone': 940, 'ipad': 939, 'passbook': 1276, 'click': 332, 'break': 234, 'forward': 741, 'cost': 405, 'ugh': 1833, 'along': 67, 'put': 1398, 'pdx': 1289, 'bug': 245, 'report': 1470, 'center': 290, 'bite': 213, 'attendant': 136, 'reset': 1484, 'password': 1280, 'base': 180, 'something': 1628, 'departure': 489, 'todays': 1778, 'palm': 1266, 'spring': 1655, 'ca': 256, 'sound': 1638, 'fun': 763, 'update': 1862, 'count': 409, 'somehow': 1626, 'continue': 397, 'sort': 1637, 'sweet': 1713, 'ice': 887, 'coffee': 347, 'passenger': 1277, 'trust': 1814, 'file': 685, 'destination': 500, 'wheel': 1933, 'easy': 570, 'itinerary': 946, 'see': 1555, 'inspire': 929, 'become': 191, 'event': 611, 'march': 1081, 'abq': 4, 'entire': 597, 'improve': 902, 'request': 1474, 'window': 1947, 'confirm': 381, 'treat': 1805, 'grand': 795, 'wtf': 1975, 'purpose': 1396, 'frequent': 748, 'flier': 704, 'inconvenience': 910, 'full': 761, 'place': 1322, 'result': 1494, 'usa': 1868, 'pillow': 1317, 'instead': 930, 'race': 1407, 'advantage': 33, 'fight': 683, 'salt': 1533, 'cabin': 258, 'behind': 194, 'fav': 669, 'hot': 862, 'paris': 1270, 'surgery': 1707, 'suitcase': 1697, 'errors': 602, 'past': 1281, 'order': 1243, 'virginatlantic': 1890, 'atlantic': 132, 'benefit': 197, 'husband': 884, 'screen': 1546, 'light': 1021, 'barely': 179, 'turbulence': 1819, 'profit': 1379, 'funny': 766, 'story': 1678, 'forecast': 733, 'nytimes': 1210, 'position': 1346, 'wonder': 1956, 'despite': 499, 'revenue': 1497, 'positive': 1347, 'increase': 912, 'wind': 1946, 'degrees': 477, 'safety': 1531, 'day': 459, 'rout': 1516, 'newark': 1179, 'hope': 857, 'probably': 1373, 'save': 1538, 'standby': 1660, 'absolutely': 6, 'ready': 1419, 'manage': 1075, 'treatment': 1806, 'old': 1225, 'battle': 183, 'less': 1010, 'half': 810, 'price': 1367, 'round': 1514, 'dtw': 558, 'sell': 1561, 'promo': 1383, 'paperwork': 1268, 'promise': 1382, 'resolution': 1485, 'performance': 1297, 'care': 274, 'lovely': 1054, 'mileage': 1121, 'challenge': 298, 'several': 1571, 'ball': 174, 'flightly': 714, 'americanair': 78, 'glad': 785, 'years': 1983, 'earn': 565, 'couple': 412, 'message': 1109, 'avail': 148, 'cheer': 314, 'smooth': 1617, 'easily': 567, 'hop': 856, 'force': 732, 'small': 1614, 'carry': 279, 'empty': 585, 'space': 1643, 'slow': 1613, 'representative': 1471, 'solution': 1623, 'loyal': 1057, 'rd': 1415, 'partner': 1273, 'visa': 1891, 'payment': 1287, 'method': 1111, 'rat': 1412, 'recommend': 1432, 'aus': 142, 'turn': 1820, 'course': 414, 'family': 659, 'ok': 1222, 'receipt': 1428, 'badge': 167, 'ones': 1229, 'currently': 438, 'pick': 1314, 'tweet': 1823, 'rental': 1463, 'car': 272, 'cust': 439, 'lap': 990, 'child': 318, 'celebrate': 288, 'chance': 299, 'gift': 782, 'bank': 177, 'joke': 963, 'constant': 392, 'also': 71, 'grandma': 796, 'bday': 186, 'greet': 798, 'stewardess': 1671, 'eastern': 569, 'tix': 1774, 'yr': 1993, 'moment': 1142, 'submit': 1689, 'fat': 666, 'ceo': 292, 'low': 1055, 'model': 1140, 'brilliant': 236, 'omg': 1226, 'pull': 1394, 'computer': 374, 'incident': 906, 'cannot': 269, 'laptop': 991, 'guess': 805, 'announce': 84, 'dollar': 543, 'deserve': 494, 'fyi': 769, 'address': 28, 'exist': 629, 'towards': 1792, 'svc': 1710, 'app': 101, 'favorite': 670, 'crap': 420, 'channel': 301, 'uk': 1834, 'set': 1570, 'mexico': 1113, 'waste': 1910, 'paper': 1267, 'system': 1715, 'accept': 11, 'likely': 1023, 'tea': 1727, 'black': 215, 'destinations': 502, 'spread': 1654, 'learn': 1004, 'incredible': 913, 'philadelphia': 1305, 'houston': 869, 'finally': 689, 'avgeek': 151, 'forget': 735, 'kind': 977, 'jack': 947, 'future': 768, 'poor': 1342, 'malfunction': 1073, 'diego': 511, 'thankyou': 1749, 'excellent': 621, 'portland': 1345, 'additional': 27, 'items': 944, 'carryon': 280, 'group': 802, 'room': 1512, 'nightmare': 1185, 'sure': 1706, 'shit': 1578, 'bump': 248, 'rough': 1513, 'luckily': 1060, 'perfect': 1296, 'sun': 1699, 'stay': 1667, 'raise': 1408, 'man': 1074, 'wifi': 1943, 'ios': 938, 'saw': 1539, 'dad': 447, 'part': 1272, 'whole': 1939, 'short': 1584, 'europe': 608, 'abc': 2, 'overhead': 1257, 'person': 1301, 'ask': 121, 'luck': 1059, 'dear': 466, 'accommodate': 14, 'commercial': 355, 'lol': 1040, 'others': 1248, 'actual': 24, 'serv': 1567, 'travelers': 1804, 'affect': 38, 'storm': 1677, 'shock': 1580, 'complete': 370, 'toward': 1791, 'advance': 32, 'pa': 1261, 'cut': 444, 'philly': 1306, 'main': 1067, 'penalty': 1292, 'industry': 919, 'months': 1149, 'reps': 1472, 'regard': 1448, 'movie': 1154, 'actually': 25, 'mr': 1155, 'word': 1958, 'resolve': 1486, 'lack': 984, 'deice': 478, 'fill': 686, 'common': 357, 'express': 641, 'connections': 388, 'international': 933, 'yous': 1992, 'orlando': 1246, 'mins': 1130, 'tough': 1790, 'wof': 1954, 'serious': 1565, 'hook': 855, 'alternate': 72, 'prevent': 1365, 'domestic': 545, 'oh': 1221, 'auto': 145, 'economy': 572, 'transfer': 1798, 'security': 1554, 'shoe': 1581, 'david': 458, 'case': 282, 'cousin': 417, 'wonderful': 1957, 'voucher': 1896, 'january': 950, 'mail': 1066, 'company': 362, 'maybe': 1087, 'timely': 1771, 'manner': 1078, 'chase': 308, 'pass': 1275, 'son': 1631, 'weak': 1916, 'ya': 1978, 'miami': 1115, 'jan': 949, 'total': 1787, 'explain': 639, 'talk': 1723, 'almost': 65, 'ppl': 1353, 'daughter': 456, 'flightr': 715, 'anymore': 91, 'platinum': 1328, 'ac': 10, 'mechanics': 1097, 'badcustomerservice': 166, 'agents': 44, 'rude': 1522, 'thankfully': 1748, 'overnight': 1258, 'clients': 334, 'hr': 872, 'iah': 886, 'accord': 16, 'dmed': 538, 'detail': 504, 'charlotte': 307, 'existent': 630, 'ignore': 892, 'touch': 1789, 'form': 736, 'vouchers': 1897, 'inconvenient': 911, 'anywhere': 96, 'upon': 1864, 'grind': 799, 'else': 578, 'appreciate': 108, 'tarmac': 1725, 'ua': 1831, 'outside': 1252, 'truly': 1813, 'third': 1753, 'besides': 199, 'search': 1549, 'rule': 1524, 'enough': 591, 'denver': 485, 'train': 1796, 'mistake': 1137, 'ord': 1242, 'avoid': 153, 'supervisor': 1703, 'gf': 780, 'announcement': 85, 'pre': 1357, 'require': 1475, 'thru': 1762, 'dept': 492, 'okc': 1224, 'will': 1944, 'connection': 387, 'upset': 1865, 'employees': 584, 'medical': 1099, 'equipment': 600, 'thnx': 1754, 'intl': 936, 'military': 1124, 'mom': 1141, 'emergency': 582, 'miles': 1123, 'mileageplus': 1122, 'complain': 367, 'unfortunate': 1844, 'american': 77, 'coach': 343, 'bird': 210, 'ahead': 48, 'control': 398, 'rather': 1414, 'sincerely': 1599, 'delta': 483, 'attendants': 137, 'unhelpful': 1849, 'bother': 230, 'attempt': 134, 'believe': 195, 'fll': 717, 'disappear': 520, 'stand': 1658, 'record': 1434, 'nights': 1186, 'nut': 1207, 'read': 1418, 'everyone': 615, 'outbound': 1250, 'switch': 1714, 'aircraft': 53, 'crash': 422, 'winter': 1950, 'coat': 345, 'reach': 1417, 'honor': 854, 'elsewhere': 579, 'quite': 1405, 'pathetic': 1282, 'unavailable': 1837, 'ways': 1915, 'minor': 1129, 'baby': 162, 'mine': 1128, 'huh': 876, 'simple': 1596, 'apology': 100, 'repeat': 1466, 'disrespect': 533, 'finger': 692, 'enjoy': 590, 'incredibly': 914, 'zone': 1999, 'zero': 1998, 'excuse': 627, 'cause': 286, 'members': 1102, 'october': 1214, 'december': 468, 'sna': 1618, 'weekend': 1924, 'vs': 1898, 'flightd': 709, 'ski': 1609, 'coast': 344, 'whoever': 1938, 'listen': 1028, 'fb': 671, 'character': 303, 'limit': 1024, 'appear': 104, 'coupon': 413, 'cheaper': 311, 'airfare': 54, 'heathrow': 829, 'unhappy': 1848, 'complaint': 368, 'ref': 1440, 'awful': 159, 'private': 1371, 'jet': 954, 'fund': 764, 'yep': 1985, 'matter': 1085, 'atl': 130, 'ground': 801, 'louis': 1049, 'difficult': 515, 'prepare': 1362, 'stressful': 1683, 'seek': 1556, 'client': 333, 'worth': 1967, 'california': 260, 'airports': 59, 'conf': 379, 'communication': 359, 'far': 662, 'note': 1199, 'top': 1786, 'unitedairlines': 1851, 'kudos': 982, 'flightling': 713, 'usually': 1877, 'ontime': 1233, 'advisory': 37, 'quote': 1406, 'remember': 1458, 'heat': 828, 'extremely': 645, 'captain': 271, 'real': 1421, 'hence': 835, 'clothe': 336, 'curious': 436, 'operational': 1237, 'washington': 1909, 'leg': 1007, 'chicago': 316, 'lounge': 1050, 'owe': 1260, 'okay': 1223, 'properly': 1387, 'dead': 464, 'onto': 1234, 'atrocious': 133, 'impossible': 899, 'terminal': 1739, 'lhr': 1016, 'arrival': 117, 'information': 925, 'doubt': 549, 'vacation': 1879, 'responsibility': 1491, 'compliment': 372, 'nope': 1194, 'sleep': 1612, 'assure': 129, 'ruin': 1523, 'compensation': 366, 'original': 1244, 'define': 474, 'valid': 1880, 'inbound': 903, 'can': 264, 'deliver': 481, 'delivery': 482, 'hotels': 864, 'hostage': 861, 'lbs': 1002, 'write': 1972, 'machine': 1064, 'employee': 583, 'blame': 217, 'previous': 1366, 'local': 1034, 'tel': 1734, 'feedback': 676, 'tire': 1773, 'action': 23, 'solve': 1624, 'comment': 354, 'clt': 337, 'idea': 890, 'neveragain': 1177, 'within': 1952, 'cancun': 268, 'deep': 473, 'figure': 684, 'pack': 1262, 'screw': 1547, 'pax': 1285, 'hou': 865, 'wake': 1902, 'counter': 410, 'nobody': 1189, 'unfortunately': 1845, 'flyohare': 727, 'doors': 547, 'premier': 1360, 'annoy': 87, 'yea': 1980, 'phoenix': 1309, 'bullshit': 246, 'stellar': 1669, 'rip': 1507, 'front': 755, 'pocket': 1337, 'absurd': 7, 'fact': 651, 'walk': 1903, 'happily': 816, 'nah': 1163, 'split': 1652, 'bwi': 255, 'review': 1498, 'bs': 240, 'yo': 1989, 'highly': 841, 'unprofessional': 1857, 'consider': 389, 'unable': 1835, 'jp': 966, 'flightations': 708, 'courtesy': 416, 'diff': 512, 'tag': 1719, 'certificate': 295, 'bar': 178, 'disappointment': 522, 'apple': 106, 'bunch': 249, 'impress': 900, 'adopt': 31, 'outlets': 1251, 'incompetence': 908, 'finish': 693, 'exact': 618, 'ridiculous': 1504, 'carousel': 275, 'monitor': 1147, 'easier': 566, 'spare': 1644, 'unless': 1854, 'disaster': 523, 'period': 1299, 'reimbursement': 1452, 'fall': 655, 'apart': 97, 'fleet': 703, 'serve': 1568, 'notcool': 1198, 'balance': 173, 'major': 1070, 'impact': 897, 'refuel': 1445, 'hundreds': 880, 'rectify': 1435, 'situation': 1604, 'computers': 375, 'clue': 339, 'literally': 1029, 'list': 1027, 'dia': 508, 'reminder': 1460, 'device': 505, 'inside': 928, 'assume': 128, 'efforts': 574, 'final': 688, 'confusion': 384, 'failure': 653, 'software': 1622, 'airplane': 57, 'however': 870, 'display': 531, 'clear': 329, 'reference': 1442, 'discuss': 527, 'shoot': 1582, 'date': 455, 'spot': 1653, 'generic': 777, 'unnecessary': 1856, 'decisions': 472, 'kp': 980, 'aa': 0, 'ensure': 593, 'lie': 1018, 'flat': 701, 'stl': 1675, 'membership': 1103, 'catch': 284, 'karen': 971, 'daughters': 457, 'chicken': 317, 'fair': 654, 'den': 484, 'ofhare': 1219, 'reservations': 1482, 'reinstate': 1453, 'office': 1216, 'photo': 1311, 'damn': 452, 'canada': 265, 'yvr': 1996, 'divert': 534, 'msy': 1158, 'male': 1072, 'threaten': 1758, 'canadian': 266, 'pic': 1313, 'wout': 1970, 'yell': 1984, 'tho': 1755, 'frm': 754, 'sea': 1548, 'reflight': 1443, 'gross': 800, 'statement': 1665, 'directly': 518, 'example': 620, 'otherwise': 1249, 'proper': 1386, 'quickly': 1404, 'unfriendlyskies': 1847, 'single': 1600, 'location': 1036, 'girl': 783, 'boyfriend': 232, 'notifications': 1204, 'wallet': 1905, 'steal': 1668, 'til': 1768, 'cs': 430, 'repair': 1465, 'tuesday': 1818, 'responses': 1490, 'overbooked': 1256, 'fit': 697, 'incur': 915, 'abt': 8, 'deny': 486, 'prove': 1388, 'exactly': 619, 'yrs': 1994, 'etc': 607, 'cuz': 445, 'hubby': 874, 'power': 1352, 'id': 889, 'forth': 739, 'multiple': 1160, 'correctly': 404, 'management': 1076, 'angry': 82, 'consistent': 390, 'merger': 1107, 'flyers': 724, 'state': 1664, 'maintenance': 1069, 'unfriendly': 1846, 'personal': 1302, 'level': 1014, 'lufthansa': 1062, 'ill': 893, 'sick': 1590, 'replacement': 1468, 'typical': 1830, 'jh': 959, 'prompt': 1385, 'simply': 1597, 'friend': 751, 'twice': 1824, 'frustration': 757, 'effort': 573, 'choose': 321, 'difference': 513, 'age': 41, 'poorservice': 1344, 'general': 776, 'attention': 138, 'aspen': 122, 'certainly': 294, 'florida': 719, 'legs': 1009, 'allow': 64, 'overweight': 1259, 'woman': 1955, 'miserable': 1134, 'block': 218, 'dming': 539, 'public': 1392, 'mile': 1120, 'article': 119, 'redeem': 1438, 'cc': 287, 'ton': 1783, 'gain': 770, 'rebooked': 1427, 'whose': 1940, 'holder': 848, 'cleveland': 331, 'sunday': 1700, 'blog': 219, 'basically': 181, 'assign': 124, 'sense': 1563, 'english': 589, 'hassle': 821, 'terribly': 1741, 'hate': 823, 'huge': 875, 'accommodations': 15, 'originally': 1245, 'badservice': 169, 'whatever': 1932, 'london': 1041, 'hopefully': 858, 'complaints': 369, 'speed': 1648, 'hell': 831, 'flightst': 716, 'rdu': 1416, 'shop': 1583, 'onboard': 1227, 'reasonable': 1425, 'pts': 1391, 'mex': 1112, 'compare': 363, 'ten': 1737, 'usairways': 1870, 'usairwaysfail': 1871, 'occur': 1213, 'consistently': 391, 'outsource': 1253, 'hm': 845, 'suggest': 1692, 'manager': 1077, 'freeze': 747, 'dollars': 544, 'door': 546, 'global': 787, 'flightation': 707, 'yyz': 1997, 'piss': 1319, 'engine': 588, 'confuse': 383, 'release': 1456, 'deplane': 491, 'extend': 642, 'advertise': 34, 'aircanada': 52, 'lesson': 1011, 'shameful': 1575, 'moms': 1143, 'pray': 1356, 'chair': 296, 'meals': 1093, 'unreal': 1858, 'costumer': 407, 'crazy': 423, 'ha': 808, 'ty': 1828, 'fa': 647, 'worthless': 1968, 'shut': 1588, 'suggestion': 1693, 'police': 1339, 'msg': 1156, 'clean': 328, 'wet': 1931, 'print': 1368, 'piece': 1316, 'mci': 1088, 'airways': 60, 'segment': 1558, 'transaction': 1797, 'acct': 19, 'policies': 1340, 'eta': 606, 'cun': 434, 'worstcustomerservice': 1966, 'rerouted': 1477, 'garbage': 772, 'cry': 429, 'epic': 598, 'reagan': 1420, 'jetway': 957, 'operate': 1236, 'ber': 198, 'replace': 1467, 'till': 1769, 'fan': 660, 'double': 548, 'breakfast': 235, 'irritate': 941, 'humor': 879, 'copy': 400, 'ual': 1832, 'tampa': 1724, 'visit': 1892, 'wear': 1917, 'grr': 803, 'raleigh': 1409, 'poorly': 1343, 'rsw': 1520, 'lousy': 1051, 'fault': 668, 'honeymoon': 853, 'certain': 293, 'epicfail': 599, 'aware': 156, 'ktn': 981, 'officially': 1218, 'pleasant': 1330, 'brother': 238, 'house': 868, 'bdl': 187, 'bf': 204, 'tues': 1817, 'buf': 243, 'nashville': 1166, 'downgrade': 550, 'surprise': 1708, 'freak': 745, 'tiny': 1772, 'csr': 431, 'kiosks': 978, 'patience': 1283, 'bus': 250, 'prob': 1372, 'compensate': 365, 'hit': 844, 'forever': 734, 'workers': 1960, 'tone': 1784, 'lazy': 1001, 'metal': 1110, 'truck': 1810, 'value': 1881, 'fast': 664, 'reconsider': 1433, 'attitude': 139, 'respect': 1487, 'disgust': 529, 'worstairlineever': 1965, 'wyou': 1977, 'park': 1271, 'desperately': 498, 'lower': 1056, 'crappy': 421, 'higher': 840, 'felt': 680, 'quality': 1400, 'mech': 1095, 'retrieve': 1495, 'exception': 623, 'pvd': 1399, 'upcoming': 1861, 'cover': 418, 'dumb': 562, 'hurt': 883, 'taxi': 1726, 'locate': 1035, 'disconnect': 524, 'pr': 1354, 'none': 1191, 'act': 22, 'bay': 184, 'important': 898, 'flightlations': 711, 'describe': 493, 'per': 1295, 'tail': 1720, 'dinner': 516, 'honest': 851, 'except': 622, 'capt': 270, 'explanation': 640, 'availability': 149, 'cab': 257, 'pit': 1320, 'cheap': 310, 'incompetent': 909, 'bummer': 247, 'realize': 1422, 'content': 395, 'discover': 526, 'bhm': 205, 'accountability': 18, 'god': 789, 'wall': 1904, 'volunteer': 1895, 'log': 1038, 'strike': 1684, 'social': 1621, 'comp': 360, 'possibly': 1349, 'practice': 1355, 'shuttle': 1589, 'concourse': 377, 'honestly': 852, 'trap': 1801, 'sight': 1593, 'official': 1217, 'prior': 1369, 'handlers': 813, 'runway': 1526, 'false': 656, 'holders': 849, 'idiots': 891, 'present': 1363, 'obviously': 1212, 'faa': 648, 'near': 1171, 'suit': 1696, 'elite': 577, 'staralliance': 1662, 'true': 1811, 'live': 1031, 'exceptional': 624, 'push': 1397, 'five': 698, 'ass': 123, 'sometime': 1629, 'separate': 1564, 'often': 1220, 'bathroom': 182, 'unitedsucks': 1853, 'pending': 1293, 'chi': 315, 'safe': 1529, 'automatically': 147, 'cater': 285, 'tvs': 1822, 'busy': 252, 'rent': 1462, 'reroute': 1476, 'conference': 380, 'memphis': 1104, 'notify': 1205, 'tomorrows': 1782, 'discount': 525, 'attend': 135, 'funeral': 765, 'safely': 1530, 'itineraries': 945, 'passport': 1279, 'tick': 1765, 'approach': 109, 'communicate': 358, 'appal': 102, 'journey': 965, 'perhaps': 1298, 'ahold': 49, 'delete': 480, 'ah': 47, 'departures': 490, 'belong': 196, 'star': 1661, 'alliance': 63, 'standard': 1659, 'juan': 968, 'personnel': 1303, 'fam': 657, 'unitedfail': 1852, 'inexcusable': 920, 'million': 1125, 'weight': 1926, 'arrange': 115, 'announcements': 86, 'condition': 378, 'immediately': 896, 'guarantee': 804, 'acceptable': 12, 'peanuts': 1290, 'wed': 1921, 'ramp': 1410, 'hello': 832, 'relations': 1455, 'humans': 878, 'sister': 1601, 'nj': 1187, 'cle': 327, 'alright': 70, 'especially': 603, 'shitty': 1579, 'amount': 81, 'abysmal': 9, 'decide': 470, 'mark': 1082, 'families': 658, 'children': 319, 'roundtrip': 1515, 'loyalty': 1058, 'perk': 1300, 'download': 551, 'hnl': 846, 'cxl': 446, 'progress': 1381, 'badly': 168, 'ff': 681, 'callback': 262, 'corporate': 401, 'sadly': 1528, 'mother': 1152, 'water': 1912, 'legroom': 1008, 'rest': 1493, 'young': 1991, 'tmrw': 1776, 'weird': 1927, 'rate': 1413, 'decent': 469, 'merge': 1106, 'pound': 1351, 'fire': 694, 'eventually': 612, 'cnn': 342, 'approve': 110, 'ship': 1577, 'flts': 721, 'beer': 192, 'inch': 905, 'south': 1639, 'degree': 476, 'six': 1605, 'advice': 35, 'traffic': 1795, 'airbus': 51, 'remind': 1459, 'shout': 1585, 'assignment': 125, 'carrier': 276, 'disregard': 532, 'operations': 1238, 'dragon': 552, 'pen': 1291, 'backup': 164, 'sons': 1633, 'remain': 1457, 'jax': 951, 'bna': 223, 'formal': 737, 'exit': 631, 'commitment': 356, 'plenty': 1332, 'yay': 1979, 'die': 510, 'plastic': 1326, 'meal': 1092, 'roc': 1510, 'useful': 1874, 'map': 1080, 'insult': 931, 'north': 1196, 'tkt': 1775, 'smile': 1616, 'ind': 916, 'roads': 1509, 'interview': 935, 'biggest': 207, 'decision': 471, 'unbelievable': 1838, 'although': 73, 'nothappy': 1200, 'ba': 161, 'slc': 1611, 'argue': 113, 'history': 843, 'overall': 1255, 'relate': 1454, 'recently': 1431, 'expedia': 634, 'document': 541, 'technical': 1732, 'fliers': 705, 'incentive': 904, 'horrendous': 859, 'disgrace': 528, 'procedure': 1376, 'party': 1274, 'cell': 289, 'thoughts': 1757, 'teach': 1728, 'tpa': 1793, 'msp': 1157, 'usual': 1876, 'charity': 305, 'aviation': 152, 'cup': 435, 'guitar': 806, 'extension': 643, 'somebody': 1625, 'rapid': 1411, 'john': 961, 'wheelchair': 1934, 'clearly': 330, 'furious': 767, 'department': 488, 'type': 1829, 'golf': 792, 'cart': 281, 'responsible': 1492, 'insane': 927, 'volume': 1894, 'patient': 1284, 'painful': 1264, 'tight': 1767, 'east': 568, 'embarrass': 581, 'warn': 1908, 'wednesday': 1922, 'res': 1478, 'snack': 1619, 'automate': 146, 'transport': 1799, 'mad': 1065, 'june': 970, 'specific': 1647, 'winners': 1949, 'accurate': 20, 'companion': 361, 'pbi': 1288, 'father': 667, 'lifetime': 1020, 'misplace': 1135, 'laguardia': 987, 'size': 1606, 'suggestions': 1694, 'haha': 809, 'wth': 1976, 'hungry': 881, 'maint': 1068, 'firstclass': 696, 'fantastic': 661, 'sw': 1711, 'exchange': 625, 'gg': 781, 'cont': 393, 'dial': 509, 'tablet': 1718, 'yup': 1995, 'courteous': 415, 'alert': 61, 'straight': 1679, 'anniversary': 83, 'expedite': 635, 'nc': 1169, 'buffalo': 244, 'estimate': 605, 'join': 962, 'gas': 773, 'hide': 838, 'ripoff': 1508, 'nasty': 1167, 'heavy': 830, 'systems': 1716, 'survey': 1709, 'puerto': 1393, 'rico': 1502, 'alot': 68, 'pet': 1304, 'west': 1930, 'admit': 30, 'wifes': 1942, 'desks': 497, 'whether': 1936, 'parent': 1269, 'term': 1738, 'camera': 263, 'pittsburgh': 1321, 'harder': 819, 'van': 1882, 'toddler': 1779, 'jt': 967, 'customs': 443, 'somewhere': 1630, 'letter': 1013, 'fresh': 749, 'ric': 1500, 'reward': 1499, 'august': 141, 'fort': 738, 'flytpa': 728, 'inform': 924, 'apologize': 99, 'neither': 1175, 'laugh': 997, 'understandable': 1842, 'scale': 1541, 'blah': 216, 'en': 586, 'tear': 1730, 'hartford': 820, 'mke': 1138, 'bonus': 225, 'warm': 1907, 'initial': 926, 'ft': 758, 'lauderdale': 996, 'icy': 888, 'street': 1681, 'nexus': 1182, 'indeed': 917, 'ashamed': 120, 'success': 1690, 'gogo': 790, 'sigh': 1592, 'phx': 1312, 'jacksonville': 948, 'de': 463, 'birmingham': 211, 'brutal': 239, 'midway': 1118, 'swa': 1712, 'promotion': 1384, 'alist': 62, 'rr': 1519, 'spiritairlines': 1651, 'data': 454, 'southwestairlines': 1642, 'phlairport': 1308, 'charleston': 306, 'throughout': 1760, 'heart': 827, 'gear': 775, 'mdw': 1091, 'fell': 679, 'destinationdragons': 501, 'imaginedragons': 895, 'voice': 1893, 'unreliable': 1859, 'test': 1743, 'feature': 672, 'bae': 170, 'contest': 396, 'spirit': 1650, 'scavenger': 1543, 'hunt': 882, 'terry': 1742, 'est': 604, 'noon': 1193, 'aug': 140, 'columbus': 351, 'oakland': 1211, 'bostonlogan': 229, 'arrangements': 116, 'enroute': 592, 'stroller': 1685, 'md': 1090, 'tx': 1827, 'sale': 1532, 'telephone': 1735, 'band': 176, 'color': 350, 'compassion': 364, 'lucky': 1061, 'loss': 1047, 'dragons': 553, 'sunny': 1701, 'professional': 1378, 'baltimore': 175, 'usair': 1869, 'cmon': 341, 'loose': 1045, 'resched': 1479, 'blue': 221, 'fortunemagazine': 740, 'corporation': 402, 'stupid': 1688, 'summer': 1698, 'cash': 283, 'refer': 1441, 'crowd': 428, 'velourlive': 1884, 'triflight': 1807, 'selfie': 1560, 'nearby': 1172, 'aww': 160, 'college': 349, 'savannah': 1537, 'anticipate': 90, 'love_dragonss': 1053, 'lauren': 998, 'costa': 406, 'rica': 1501, 'chaos': 302, 'unload': 1855, 'evaluate': 609, 'disney': 530, 'involve': 937, 'regular': 1450, 'fraud': 744, 'national': 1168, 'sju': 1608, 'fleek': 702, 'jb': 952, 'trueblue': 1812, 'plat': 1327, 'beach': 188, 'flyfi': 725, 'transportation': 1800, 'njb': 1188, 'jblu': 953, 'wsj': 1974, 'cuba': 433, 'appease': 105, 'jetblues': 956, 'waterbury': 1913, 'republican': 1473, 'flyingitforward': 726, 'mint': 1131, 'nantucket': 1165, 'glass': 786, 'mosaic': 1151, 'goodwill': 794, 'hpn': 871, 'circle': 322, 'journal': 964, 'bluemanity': 222, 'admirals': 29, 'livery': 1032, 'bottle': 231, 'shoutout': 1586, 'dividend': 535, 'chairman': 297, 'agency': 42, 'exec': 628, 'ctl': 432, 'aadvantage': 1, 'onhold': 1231, 'key': 973, 'usairwayssucks': 1872, 'locator': 1037, 'dfwairport': 507, 'cowboycerrone': 419, 'understaffing': 1840}\n"
     ]
    }
   ],
   "source": [
    "print(len(vectorizer.vocabulary_))\n",
    "print(vectorizer.vocabulary_)"
   ]
  },
  {
   "cell_type": "code",
   "execution_count": 23,
   "metadata": {},
   "outputs": [
    {
     "data": {
      "text/plain": [
       "(14640, 2000)"
      ]
     },
     "execution_count": 23,
     "metadata": {},
     "output_type": "execute_result"
    }
   ],
   "source": [
    "# b. Use TfidfVectorizer.\n",
    "\n",
    "vectorizer2 = TfidfVectorizer(max_features=2000)\n",
    "tweets_TfidfVectorizer = vectorizer2.fit_transform(tweets_final['text'])\n",
    "tweets_TfidfVectorizer = tweets_TfidfVectorizer.toarray()\n",
    "tweets_TfidfVectorizer.shape"
   ]
  },
  {
   "cell_type": "code",
   "execution_count": 24,
   "metadata": {},
   "outputs": [
    {
     "name": "stdout",
     "output_type": "stream",
     "text": [
      "2000\n",
      "{'virginamerica': 1889, 'say': 1540, 'plus': 1334, 'add': 26, 'experience': 637, 'not': 1197, 'today': 1777, 'must': 1162, 'mean': 1094, 'need': 1174, 'take': 1721, 'another': 88, 'trip': 1808, 'really': 1423, 'entertainment': 596, 'face': 650, 'little': 1030, 'big': 206, 'bad': 165, 'thing': 1750, 'seriously': 1566, 'would': 1969, 'pay': 1286, 'flight': 706, 'seat': 1550, 'play': 1329, 'fly': 722, 'va': 1878, 'yes': 1986, 'nearly': 1173, 'every': 614, 'time': 1770, 'vx': 1899, 'go': 788, 'away': 157, 'miss': 1136, 'opportunity': 1239, 'without': 1953, 'hat': 822, 'well': 1929, 'amaze': 75, 'arrive': 118, 'hour': 866, 'early': 564, 'good': 793, 'know': 979, 'suicide': 1695, 'second': 1552, 'lead': 1003, 'death': 467, 'among': 80, 'teens': 1733, 'pretty': 1364, 'much': 1159, 'better': 202, 'great': 797, 'deal': 465, 'already': 69, 'think': 1752, 'nd': 1170, 'australia': 144, 'even': 610, 'st': 1656, 'yet': 1988, 'fabulous': 649, 'sky': 1610, 'stress': 1682, 'travel': 1802, 'thank': 1747, 'schedule': 1544, 'still': 1673, 'mia': 1114, 'excite': 626, 'first': 695, 'cross': 427, 'country': 411, 'lax': 999, 'mco': 1089, 'hear': 826, 'nothing': 1201, 'things': 1751, 'virgin': 1888, 'america': 76, 'nyc': 1209, 'sfo': 1573, 'last': 994, 'week': 1923, 'could': 408, 'fully': 762, 'sit': 1602, 'due': 559, 'two': 1826, 'large': 992, 'either': 575, 'side': 1591, 'help': 833, 'awesome': 158, 'please': 1331, 'want': 1906, 'fare': 663, 'may': 1086, 'three': 1759, 'carriers': 277, 'available': 150, 'select': 1559, 'love': 1052, 'feel': 677, 'brand': 233, 'make': 1071, 'non': 1190, 'stop': 1676, 'anytime': 94, 'soon': 1634, 'guy': 807, 'mess': 1108, 'reserve': 1483, 'friends': 753, 'give': 784, 'free': 746, 'internet': 934, 'status': 1666, 'match': 1084, 'program': 1380, 'apply': 107, 'weeks': 1925, 'call': 261, 'email': 580, 'response': 1489, 'happen': 815, 'ur': 1866, 'food': 731, 'options': 1241, 'least': 1005, 'site': 1603, 'able': 3, 'eat': 571, 'anything': 93, 'next': 1181, 'hrs': 873, 'fail': 652, 'worry': 1962, 'together': 1780, 'get': 778, 'cold': 348, 'air': 50, 'ewr': 617, 'middle': 1116, 'red': 1436, 'eye': 646, 'hi': 837, 'cool': 399, 'birthday': 212, 'elevate': 576, 'enter': 594, 'name': 1164, 'book': 226, 'problems': 1375, 'hours': 867, 'club': 338, 'post': 1350, 'online': 1232, 'current': 437, 'leave': 1006, 'expensive': 636, 'iad': 885, 'one': 1228, 'answer': 89, 'number': 1206, 'await': 154, 'return': 1496, 'phone': 1310, 'prefer': 1359, 'use': 1873, 'option': 1240, 'news': 1180, 'start': 1663, 'hawaii': 824, 'end': 587, 'year': 1982, 'via': 1885, 'nice': 1183, 'rt': 1521, 'takeoff': 1722, 'way': 1914, 'best': 200, 'ever': 613, 'do': 540, 'airline': 55, 'around': 114, 'hand': 811, 'chat': 309, 'support': 1704, 'work': 1959, 'view': 1887, 'sign': 1594, 'beyond': 203, 'hey': 836, 'flyer': 723, 'hard': 818, 'account': 17, 'plz': 1335, 'win': 1945, 'upgrade': 1863, 'unused': 1860, 'ticket': 1766, 'move': 1153, 'new': 1178, 'city': 324, 'expire': 638, 'dallas': 450, 'seattle': 1551, 'feb': 673, 'reason': 1424, 'rock': 1511, 'dream': 554, 'wow': 1971, 'blow': 220, 'mind': 1127, 'ladygaga': 986, 'carrieunderwood': 278, 'night': 1184, 'oscars': 1247, 'agree': 46, 'entertain': 595, 'suppose': 1705, 'minutes': 1133, 'ago': 45, 'website': 1920, 'show': 1587, 'though': 1756, 'impressive': 901, 'wish': 1951, 'atlanta': 131, 'la': 983, 'february': 674, 'th': 1746, 'try': 1815, 'since': 1598, 'page': 1263, 'never': 1176, 'load': 1033, 'thx': 1764, 'lady': 985, 'market': 1083, 'song': 1632, 'let': 1012, 'us': 1867, 'sorry': 1636, 'beat': 189, 'dal': 449, 'dca': 462, 'pm': 1336, 'check': 312, 'someone': 1627, 'hold': 847, 'earlier': 563, 'tonight': 1785, 'congrats': 385, 'award': 155, 'everything': 616, 'fine': 691, 'lose': 1046, 'bag': 171, 'change': 300, 'reservation': 1481, 'credit': 425, 'card': 273, 'waive': 1901, 'fee': 675, 'customer': 440, 'service': 1569, 'team': 1729, 'track': 1794, 'baggage': 172, 'step': 1670, 'game': 771, 'dirty': 519, 'table': 1717, 'floor': 718, 'ride': 1503, 'plane': 1325, 'crew': 426, 'airlines': 56, 'like': 1022, 'morning': 1150, 'correct': 403, 'bill': 208, 'watch': 1911, 'student': 1686, 'film': 687, 'feet': 678, 'different': 514, 'media': 1098, 'anyway': 95, 'speak': 1645, 'human': 877, 'possible': 1348, 'biz': 214, 'traveler': 1803, 'southwestair': 1641, 'jetblue': 955, 'member': 1101, 'inflight': 922, 'interest': 932, 'whenever': 1935, 'delay': 479, 'late': 995, 'cancel': 267, 'four': 742, 'disappoint': 521, 'share': 1576, 'business': 251, 'meet': 1100, 'trouble': 1809, 'wife': 1941, 'bring': 237, 'code': 346, 'bet': 201, 'life': 1019, 'home': 850, 'back': 163, 'yeah': 1981, 'point': 1338, 'recent': 1430, 'tv': 1821, 'video': 1886, 'flightled': 712, 'jfk': 958, 'saturday': 1536, 'land': 989, 'friendly': 752, 'redirect': 1439, 'btw': 241, 'mobile': 1139, 'scan': 1542, 'passengers': 1278, 'tell': 1736, 'remove': 1461, 'class': 326, 'bin': 209, 'uncomfortable': 1839, 'find': 690, 'anyone': 92, 'useless': 1875, 'sf': 1572, 'thursday': 1763, 'music': 1161, 'direct': 517, 'unexpected': 1843, 'layover': 1000, 'vegas': 1883, 'fuel': 760, 'buy': 254, 'people': 1294, 'exp': 632, 'customerservice': 442, 'line': 1025, 'hang': 814, 'sarcasm': 1535, 'plain': 1323, 'text': 1745, 'info': 923, 'weather': 1918, 'look': 1044, 'getaway': 779, 'oneway': 1230, 'lot': 1048, 'cities': 323, 'come': 352, 'phl': 1307, 'horrible': 860, 'concern': 376, 'tech': 1731, 'comfortable': 353, 'rep': 1464, 'kick': 974, 'beautiful': 190, 'design': 495, 'right': 1505, 'bc': 185, 'secure': 1553, 'run': 1525, 'gate': 774, 'las': 993, 'wait': 1900, 'keep': 972, 'totally': 1788, 'folks': 729, 'problem': 1374, 'min': 1126, 'connect': 386, 'seem': 1557, 'long': 1042, 'outstanding': 1254, 'san': 1534, 'francisco': 743, 'absolute': 5, 'provide': 1389, 'complimentary': 373, 'completely': 371, 'month': 1148, 'nonstop': 1192, 'depart': 487, 'customers': 441, 'process': 1377, 'link': 1026, 'tsa': 1816, 'precheck': 1358, 'terrible': 1740, 'hotel': 863, 'cabo': 259, 'assistance': 127, 'yesterday': 1987, 'shame': 1574, 'register': 1449, 'dog': 542, 'dull': 560, 'queue': 1402, 'longer': 1043, 'pls': 1333, 'advise': 36, 'redcarpet': 1437, 'drop': 557, 'always': 74, 'create': 424, 'frustrate': 756, 'extra': 644, 'buck': 242, 'luggage': 1063, 'might': 1119, 'afford': 39, 'hire': 842, 'lame': 988, 'world': 1961, 'flt': 720, 'sooner': 1635, 'midnight': 1117, 'monday': 1145, 'imagine': 894, 'web': 1919, 'indicate': 918, 'staff': 1657, 'super': 1702, 'helpful': 834, 'premium': 1361, 'across': 21, 'offer': 1215, 'sad': 1527, 'question': 1401, 'infant': 921, 'welcome': 1928, 'dc': 461, 'refresh': 1444, 'understand': 1841, 'dm': 536, 'damage': 451, 'policy': 1341, 'destroy': 503, 'special': 1646, 'alone': 66, 'kid': 975, 'priority': 1370, 'board': 224, 'purchase': 1395, 'happy': 817, 'field': 682, 'definitely': 475, 'lga': 1015, 'dfw': 506, 'license': 1017, 'friday': 750, 'error': 601, 'contact': 394, 'minute': 1132, 'reschedule': 1480, 'button': 253, 'ring': 1506, 'fix': 699, 'tomorrow': 1781, 'unacceptable': 1836, 'stick': 1672, 'pair': 1265, 'include': 907, 'wine': 1948, 'white': 1937, 'agent': 43, 'silver': 1595, 'dulles_airport': 561, 'close': 335, 'assist': 126, 'plan': 1324, 'austin': 143, 'route': 1517, 'normal': 1195, 'receive': 1429, 'reply': 1469, 'central': 291, 'smh': 1615, 'logan': 1039, 'airport': 58, 'checkin': 313, 'desk': 496, 'open': 1235, 'jump': 969, 'daily': 448, 'begin': 193, 'april': 111, 'fuck': 759, 'unite': 1850, 'fl': 700, 'follow': 730, 'many': 1079, 'apologies': 98, 'worse': 1963, 'respond': 1488, 'spend': 1649, 'money': 1146, 'strand': 1680, 'reimburse': 1451, 'sjc': 1607, 'choice': 320, 'southwest': 1640, 'days': 460, 'confirmation': 382, 'claim': 325, 'bos': 227, 'notification': 1203, 'rebook': 1426, 'gold': 791, 'cmh': 340, 'throw': 1761, 'worst': 1964, 'stuff': 1687, 'wrong': 1973, 'issue': 942, 'item': 943, 'head': 825, 'americanairlines': 79, 'suck': 1691, 'dmd': 537, 'flightlation': 710, 'notice': 1202, 'ps': 1390, 'drive': 556, 'mon': 1144, 'boston': 228, 'stink': 1674, 'expect': 633, 'dance': 453, 'high': 839, 'school': 1545, 'quick': 1403, 'apparently': 103, 'faster': 665, 'send': 1562, 'picture': 1315, 'texas': 1744, 'ny': 1208, 'pilot': 1318, 'job': 960, 'snow': 1620, 'york': 1990, 'area': 112, 'afternoon': 40, 'row': 1518, 'mention': 1105, 'mechanical': 1096, 'handle': 812, 'drink': 555, 'twitter': 1825, 'kill': 976, 'charge': 304, 'refuse': 1447, 'refund': 1446, 'access': 13, 'iphone': 940, 'ipad': 939, 'passbook': 1276, 'click': 332, 'break': 234, 'forward': 741, 'cost': 405, 'ugh': 1833, 'along': 67, 'put': 1398, 'pdx': 1289, 'bug': 245, 'report': 1470, 'center': 290, 'bite': 213, 'attendant': 136, 'reset': 1484, 'password': 1280, 'base': 180, 'something': 1628, 'departure': 489, 'todays': 1778, 'palm': 1266, 'spring': 1655, 'ca': 256, 'sound': 1638, 'fun': 763, 'update': 1862, 'count': 409, 'somehow': 1626, 'continue': 397, 'sort': 1637, 'sweet': 1713, 'ice': 887, 'coffee': 347, 'passenger': 1277, 'trust': 1814, 'file': 685, 'destination': 500, 'wheel': 1933, 'easy': 570, 'itinerary': 946, 'see': 1555, 'inspire': 929, 'become': 191, 'event': 611, 'march': 1081, 'abq': 4, 'entire': 597, 'improve': 902, 'request': 1474, 'window': 1947, 'confirm': 381, 'treat': 1805, 'grand': 795, 'wtf': 1975, 'purpose': 1396, 'frequent': 748, 'flier': 704, 'inconvenience': 910, 'full': 761, 'place': 1322, 'result': 1494, 'usa': 1868, 'pillow': 1317, 'instead': 930, 'race': 1407, 'advantage': 33, 'fight': 683, 'salt': 1533, 'cabin': 258, 'behind': 194, 'fav': 669, 'hot': 862, 'paris': 1270, 'surgery': 1707, 'suitcase': 1697, 'errors': 602, 'past': 1281, 'order': 1243, 'virginatlantic': 1890, 'atlantic': 132, 'benefit': 197, 'husband': 884, 'screen': 1546, 'light': 1021, 'barely': 179, 'turbulence': 1819, 'profit': 1379, 'funny': 766, 'story': 1678, 'forecast': 733, 'nytimes': 1210, 'position': 1346, 'wonder': 1956, 'despite': 499, 'revenue': 1497, 'positive': 1347, 'increase': 912, 'wind': 1946, 'degrees': 477, 'safety': 1531, 'day': 459, 'rout': 1516, 'newark': 1179, 'hope': 857, 'probably': 1373, 'save': 1538, 'standby': 1660, 'absolutely': 6, 'ready': 1419, 'manage': 1075, 'treatment': 1806, 'old': 1225, 'battle': 183, 'less': 1010, 'half': 810, 'price': 1367, 'round': 1514, 'dtw': 558, 'sell': 1561, 'promo': 1383, 'paperwork': 1268, 'promise': 1382, 'resolution': 1485, 'performance': 1297, 'care': 274, 'lovely': 1054, 'mileage': 1121, 'challenge': 298, 'several': 1571, 'ball': 174, 'flightly': 714, 'americanair': 78, 'glad': 785, 'years': 1983, 'earn': 565, 'couple': 412, 'message': 1109, 'avail': 148, 'cheer': 314, 'smooth': 1617, 'easily': 567, 'hop': 856, 'force': 732, 'small': 1614, 'carry': 279, 'empty': 585, 'space': 1643, 'slow': 1613, 'representative': 1471, 'solution': 1623, 'loyal': 1057, 'rd': 1415, 'partner': 1273, 'visa': 1891, 'payment': 1287, 'method': 1111, 'rat': 1412, 'recommend': 1432, 'aus': 142, 'turn': 1820, 'course': 414, 'family': 659, 'ok': 1222, 'receipt': 1428, 'badge': 167, 'ones': 1229, 'currently': 438, 'pick': 1314, 'tweet': 1823, 'rental': 1463, 'car': 272, 'cust': 439, 'lap': 990, 'child': 318, 'celebrate': 288, 'chance': 299, 'gift': 782, 'bank': 177, 'joke': 963, 'constant': 392, 'also': 71, 'grandma': 796, 'bday': 186, 'greet': 798, 'stewardess': 1671, 'eastern': 569, 'tix': 1774, 'yr': 1993, 'moment': 1142, 'submit': 1689, 'fat': 666, 'ceo': 292, 'low': 1055, 'model': 1140, 'brilliant': 236, 'omg': 1226, 'pull': 1394, 'computer': 374, 'incident': 906, 'cannot': 269, 'laptop': 991, 'guess': 805, 'announce': 84, 'dollar': 543, 'deserve': 494, 'fyi': 769, 'address': 28, 'exist': 629, 'towards': 1792, 'svc': 1710, 'app': 101, 'favorite': 670, 'crap': 420, 'channel': 301, 'uk': 1834, 'set': 1570, 'mexico': 1113, 'waste': 1910, 'paper': 1267, 'system': 1715, 'accept': 11, 'likely': 1023, 'tea': 1727, 'black': 215, 'destinations': 502, 'spread': 1654, 'learn': 1004, 'incredible': 913, 'philadelphia': 1305, 'houston': 869, 'finally': 689, 'avgeek': 151, 'forget': 735, 'kind': 977, 'jack': 947, 'future': 768, 'poor': 1342, 'malfunction': 1073, 'diego': 511, 'thankyou': 1749, 'excellent': 621, 'portland': 1345, 'additional': 27, 'items': 944, 'carryon': 280, 'group': 802, 'room': 1512, 'nightmare': 1185, 'sure': 1706, 'shit': 1578, 'bump': 248, 'rough': 1513, 'luckily': 1060, 'perfect': 1296, 'sun': 1699, 'stay': 1667, 'raise': 1408, 'man': 1074, 'wifi': 1943, 'ios': 938, 'saw': 1539, 'dad': 447, 'part': 1272, 'whole': 1939, 'short': 1584, 'europe': 608, 'abc': 2, 'overhead': 1257, 'person': 1301, 'ask': 121, 'luck': 1059, 'dear': 466, 'accommodate': 14, 'commercial': 355, 'lol': 1040, 'others': 1248, 'actual': 24, 'serv': 1567, 'travelers': 1804, 'affect': 38, 'storm': 1677, 'shock': 1580, 'complete': 370, 'toward': 1791, 'advance': 32, 'pa': 1261, 'cut': 444, 'philly': 1306, 'main': 1067, 'penalty': 1292, 'industry': 919, 'months': 1149, 'reps': 1472, 'regard': 1448, 'movie': 1154, 'actually': 25, 'mr': 1155, 'word': 1958, 'resolve': 1486, 'lack': 984, 'deice': 478, 'fill': 686, 'common': 357, 'express': 641, 'connections': 388, 'international': 933, 'yous': 1992, 'orlando': 1246, 'mins': 1130, 'tough': 1790, 'wof': 1954, 'serious': 1565, 'hook': 855, 'alternate': 72, 'prevent': 1365, 'domestic': 545, 'oh': 1221, 'auto': 145, 'economy': 572, 'transfer': 1798, 'security': 1554, 'shoe': 1581, 'david': 458, 'case': 282, 'cousin': 417, 'wonderful': 1957, 'voucher': 1896, 'january': 950, 'mail': 1066, 'company': 362, 'maybe': 1087, 'timely': 1771, 'manner': 1078, 'chase': 308, 'pass': 1275, 'son': 1631, 'weak': 1916, 'ya': 1978, 'miami': 1115, 'jan': 949, 'total': 1787, 'explain': 639, 'talk': 1723, 'almost': 65, 'ppl': 1353, 'daughter': 456, 'flightr': 715, 'anymore': 91, 'platinum': 1328, 'ac': 10, 'mechanics': 1097, 'badcustomerservice': 166, 'agents': 44, 'rude': 1522, 'thankfully': 1748, 'overnight': 1258, 'clients': 334, 'hr': 872, 'iah': 886, 'accord': 16, 'dmed': 538, 'detail': 504, 'charlotte': 307, 'existent': 630, 'ignore': 892, 'touch': 1789, 'form': 736, 'vouchers': 1897, 'inconvenient': 911, 'anywhere': 96, 'upon': 1864, 'grind': 799, 'else': 578, 'appreciate': 108, 'tarmac': 1725, 'ua': 1831, 'outside': 1252, 'truly': 1813, 'third': 1753, 'besides': 199, 'search': 1549, 'rule': 1524, 'enough': 591, 'denver': 485, 'train': 1796, 'mistake': 1137, 'ord': 1242, 'avoid': 153, 'supervisor': 1703, 'gf': 780, 'announcement': 85, 'pre': 1357, 'require': 1475, 'thru': 1762, 'dept': 492, 'okc': 1224, 'will': 1944, 'connection': 387, 'upset': 1865, 'employees': 584, 'medical': 1099, 'equipment': 600, 'thnx': 1754, 'intl': 936, 'military': 1124, 'mom': 1141, 'emergency': 582, 'miles': 1123, 'mileageplus': 1122, 'complain': 367, 'unfortunate': 1844, 'american': 77, 'coach': 343, 'bird': 210, 'ahead': 48, 'control': 398, 'rather': 1414, 'sincerely': 1599, 'delta': 483, 'attendants': 137, 'unhelpful': 1849, 'bother': 230, 'attempt': 134, 'believe': 195, 'fll': 717, 'disappear': 520, 'stand': 1658, 'record': 1434, 'nights': 1186, 'nut': 1207, 'read': 1418, 'everyone': 615, 'outbound': 1250, 'switch': 1714, 'aircraft': 53, 'crash': 422, 'winter': 1950, 'coat': 345, 'reach': 1417, 'honor': 854, 'elsewhere': 579, 'quite': 1405, 'pathetic': 1282, 'unavailable': 1837, 'ways': 1915, 'minor': 1129, 'baby': 162, 'mine': 1128, 'huh': 876, 'simple': 1596, 'apology': 100, 'repeat': 1466, 'disrespect': 533, 'finger': 692, 'enjoy': 590, 'incredibly': 914, 'zone': 1999, 'zero': 1998, 'excuse': 627, 'cause': 286, 'members': 1102, 'october': 1214, 'december': 468, 'sna': 1618, 'weekend': 1924, 'vs': 1898, 'flightd': 709, 'ski': 1609, 'coast': 344, 'whoever': 1938, 'listen': 1028, 'fb': 671, 'character': 303, 'limit': 1024, 'appear': 104, 'coupon': 413, 'cheaper': 311, 'airfare': 54, 'heathrow': 829, 'unhappy': 1848, 'complaint': 368, 'ref': 1440, 'awful': 159, 'private': 1371, 'jet': 954, 'fund': 764, 'yep': 1985, 'matter': 1085, 'atl': 130, 'ground': 801, 'louis': 1049, 'difficult': 515, 'prepare': 1362, 'stressful': 1683, 'seek': 1556, 'client': 333, 'worth': 1967, 'california': 260, 'airports': 59, 'conf': 379, 'communication': 359, 'far': 662, 'note': 1199, 'top': 1786, 'unitedairlines': 1851, 'kudos': 982, 'flightling': 713, 'usually': 1877, 'ontime': 1233, 'advisory': 37, 'quote': 1406, 'remember': 1458, 'heat': 828, 'extremely': 645, 'captain': 271, 'real': 1421, 'hence': 835, 'clothe': 336, 'curious': 436, 'operational': 1237, 'washington': 1909, 'leg': 1007, 'chicago': 316, 'lounge': 1050, 'owe': 1260, 'okay': 1223, 'properly': 1387, 'dead': 464, 'onto': 1234, 'atrocious': 133, 'impossible': 899, 'terminal': 1739, 'lhr': 1016, 'arrival': 117, 'information': 925, 'doubt': 549, 'vacation': 1879, 'responsibility': 1491, 'compliment': 372, 'nope': 1194, 'sleep': 1612, 'assure': 129, 'ruin': 1523, 'compensation': 366, 'original': 1244, 'define': 474, 'valid': 1880, 'inbound': 903, 'can': 264, 'deliver': 481, 'delivery': 482, 'hotels': 864, 'hostage': 861, 'lbs': 1002, 'write': 1972, 'machine': 1064, 'employee': 583, 'blame': 217, 'previous': 1366, 'local': 1034, 'tel': 1734, 'feedback': 676, 'tire': 1773, 'action': 23, 'solve': 1624, 'comment': 354, 'clt': 337, 'idea': 890, 'neveragain': 1177, 'within': 1952, 'cancun': 268, 'deep': 473, 'figure': 684, 'pack': 1262, 'screw': 1547, 'pax': 1285, 'hou': 865, 'wake': 1902, 'counter': 410, 'nobody': 1189, 'unfortunately': 1845, 'flyohare': 727, 'doors': 547, 'premier': 1360, 'annoy': 87, 'yea': 1980, 'phoenix': 1309, 'bullshit': 246, 'stellar': 1669, 'rip': 1507, 'front': 755, 'pocket': 1337, 'absurd': 7, 'fact': 651, 'walk': 1903, 'happily': 816, 'nah': 1163, 'split': 1652, 'bwi': 255, 'review': 1498, 'bs': 240, 'yo': 1989, 'highly': 841, 'unprofessional': 1857, 'consider': 389, 'unable': 1835, 'jp': 966, 'flightations': 708, 'courtesy': 416, 'diff': 512, 'tag': 1719, 'certificate': 295, 'bar': 178, 'disappointment': 522, 'apple': 106, 'bunch': 249, 'impress': 900, 'adopt': 31, 'outlets': 1251, 'incompetence': 908, 'finish': 693, 'exact': 618, 'ridiculous': 1504, 'carousel': 275, 'monitor': 1147, 'easier': 566, 'spare': 1644, 'unless': 1854, 'disaster': 523, 'period': 1299, 'reimbursement': 1452, 'fall': 655, 'apart': 97, 'fleet': 703, 'serve': 1568, 'notcool': 1198, 'balance': 173, 'major': 1070, 'impact': 897, 'refuel': 1445, 'hundreds': 880, 'rectify': 1435, 'situation': 1604, 'computers': 375, 'clue': 339, 'literally': 1029, 'list': 1027, 'dia': 508, 'reminder': 1460, 'device': 505, 'inside': 928, 'assume': 128, 'efforts': 574, 'final': 688, 'confusion': 384, 'failure': 653, 'software': 1622, 'airplane': 57, 'however': 870, 'display': 531, 'clear': 329, 'reference': 1442, 'discuss': 527, 'shoot': 1582, 'date': 455, 'spot': 1653, 'generic': 777, 'unnecessary': 1856, 'decisions': 472, 'kp': 980, 'aa': 0, 'ensure': 593, 'lie': 1018, 'flat': 701, 'stl': 1675, 'membership': 1103, 'catch': 284, 'karen': 971, 'daughters': 457, 'chicken': 317, 'fair': 654, 'den': 484, 'ofhare': 1219, 'reservations': 1482, 'reinstate': 1453, 'office': 1216, 'photo': 1311, 'damn': 452, 'canada': 265, 'yvr': 1996, 'divert': 534, 'msy': 1158, 'male': 1072, 'threaten': 1758, 'canadian': 266, 'pic': 1313, 'wout': 1970, 'yell': 1984, 'tho': 1755, 'frm': 754, 'sea': 1548, 'reflight': 1443, 'gross': 800, 'statement': 1665, 'directly': 518, 'example': 620, 'otherwise': 1249, 'proper': 1386, 'quickly': 1404, 'unfriendlyskies': 1847, 'single': 1600, 'location': 1036, 'girl': 783, 'boyfriend': 232, 'notifications': 1204, 'wallet': 1905, 'steal': 1668, 'til': 1768, 'cs': 430, 'repair': 1465, 'tuesday': 1818, 'responses': 1490, 'overbooked': 1256, 'fit': 697, 'incur': 915, 'abt': 8, 'deny': 486, 'prove': 1388, 'exactly': 619, 'yrs': 1994, 'etc': 607, 'cuz': 445, 'hubby': 874, 'power': 1352, 'id': 889, 'forth': 739, 'multiple': 1160, 'correctly': 404, 'management': 1076, 'angry': 82, 'consistent': 390, 'merger': 1107, 'flyers': 724, 'state': 1664, 'maintenance': 1069, 'unfriendly': 1846, 'personal': 1302, 'level': 1014, 'lufthansa': 1062, 'ill': 893, 'sick': 1590, 'replacement': 1468, 'typical': 1830, 'jh': 959, 'prompt': 1385, 'simply': 1597, 'friend': 751, 'twice': 1824, 'frustration': 757, 'effort': 573, 'choose': 321, 'difference': 513, 'age': 41, 'poorservice': 1344, 'general': 776, 'attention': 138, 'aspen': 122, 'certainly': 294, 'florida': 719, 'legs': 1009, 'allow': 64, 'overweight': 1259, 'woman': 1955, 'miserable': 1134, 'block': 218, 'dming': 539, 'public': 1392, 'mile': 1120, 'article': 119, 'redeem': 1438, 'cc': 287, 'ton': 1783, 'gain': 770, 'rebooked': 1427, 'whose': 1940, 'holder': 848, 'cleveland': 331, 'sunday': 1700, 'blog': 219, 'basically': 181, 'assign': 124, 'sense': 1563, 'english': 589, 'hassle': 821, 'terribly': 1741, 'hate': 823, 'huge': 875, 'accommodations': 15, 'originally': 1245, 'badservice': 169, 'whatever': 1932, 'london': 1041, 'hopefully': 858, 'complaints': 369, 'speed': 1648, 'hell': 831, 'flightst': 716, 'rdu': 1416, 'shop': 1583, 'onboard': 1227, 'reasonable': 1425, 'pts': 1391, 'mex': 1112, 'compare': 363, 'ten': 1737, 'usairways': 1870, 'usairwaysfail': 1871, 'occur': 1213, 'consistently': 391, 'outsource': 1253, 'hm': 845, 'suggest': 1692, 'manager': 1077, 'freeze': 747, 'dollars': 544, 'door': 546, 'global': 787, 'flightation': 707, 'yyz': 1997, 'piss': 1319, 'engine': 588, 'confuse': 383, 'release': 1456, 'deplane': 491, 'extend': 642, 'advertise': 34, 'aircanada': 52, 'lesson': 1011, 'shameful': 1575, 'moms': 1143, 'pray': 1356, 'chair': 296, 'meals': 1093, 'unreal': 1858, 'costumer': 407, 'crazy': 423, 'ha': 808, 'ty': 1828, 'fa': 647, 'worthless': 1968, 'shut': 1588, 'suggestion': 1693, 'police': 1339, 'msg': 1156, 'clean': 328, 'wet': 1931, 'print': 1368, 'piece': 1316, 'mci': 1088, 'airways': 60, 'segment': 1558, 'transaction': 1797, 'acct': 19, 'policies': 1340, 'eta': 606, 'cun': 434, 'worstcustomerservice': 1966, 'rerouted': 1477, 'garbage': 772, 'cry': 429, 'epic': 598, 'reagan': 1420, 'jetway': 957, 'operate': 1236, 'ber': 198, 'replace': 1467, 'till': 1769, 'fan': 660, 'double': 548, 'breakfast': 235, 'irritate': 941, 'humor': 879, 'copy': 400, 'ual': 1832, 'tampa': 1724, 'visit': 1892, 'wear': 1917, 'grr': 803, 'raleigh': 1409, 'poorly': 1343, 'rsw': 1520, 'lousy': 1051, 'fault': 668, 'honeymoon': 853, 'certain': 293, 'epicfail': 599, 'aware': 156, 'ktn': 981, 'officially': 1218, 'pleasant': 1330, 'brother': 238, 'house': 868, 'bdl': 187, 'bf': 204, 'tues': 1817, 'buf': 243, 'nashville': 1166, 'downgrade': 550, 'surprise': 1708, 'freak': 745, 'tiny': 1772, 'csr': 431, 'kiosks': 978, 'patience': 1283, 'bus': 250, 'prob': 1372, 'compensate': 365, 'hit': 844, 'forever': 734, 'workers': 1960, 'tone': 1784, 'lazy': 1001, 'metal': 1110, 'truck': 1810, 'value': 1881, 'fast': 664, 'reconsider': 1433, 'attitude': 139, 'respect': 1487, 'disgust': 529, 'worstairlineever': 1965, 'wyou': 1977, 'park': 1271, 'desperately': 498, 'lower': 1056, 'crappy': 421, 'higher': 840, 'felt': 680, 'quality': 1400, 'mech': 1095, 'retrieve': 1495, 'exception': 623, 'pvd': 1399, 'upcoming': 1861, 'cover': 418, 'dumb': 562, 'hurt': 883, 'taxi': 1726, 'locate': 1035, 'disconnect': 524, 'pr': 1354, 'none': 1191, 'act': 22, 'bay': 184, 'important': 898, 'flightlations': 711, 'describe': 493, 'per': 1295, 'tail': 1720, 'dinner': 516, 'honest': 851, 'except': 622, 'capt': 270, 'explanation': 640, 'availability': 149, 'cab': 257, 'pit': 1320, 'cheap': 310, 'incompetent': 909, 'bummer': 247, 'realize': 1422, 'content': 395, 'discover': 526, 'bhm': 205, 'accountability': 18, 'god': 789, 'wall': 1904, 'volunteer': 1895, 'log': 1038, 'strike': 1684, 'social': 1621, 'comp': 360, 'possibly': 1349, 'practice': 1355, 'shuttle': 1589, 'concourse': 377, 'honestly': 852, 'trap': 1801, 'sight': 1593, 'official': 1217, 'prior': 1369, 'handlers': 813, 'runway': 1526, 'false': 656, 'holders': 849, 'idiots': 891, 'present': 1363, 'obviously': 1212, 'faa': 648, 'near': 1171, 'suit': 1696, 'elite': 577, 'staralliance': 1662, 'true': 1811, 'live': 1031, 'exceptional': 624, 'push': 1397, 'five': 698, 'ass': 123, 'sometime': 1629, 'separate': 1564, 'often': 1220, 'bathroom': 182, 'unitedsucks': 1853, 'pending': 1293, 'chi': 315, 'safe': 1529, 'automatically': 147, 'cater': 285, 'tvs': 1822, 'busy': 252, 'rent': 1462, 'reroute': 1476, 'conference': 380, 'memphis': 1104, 'notify': 1205, 'tomorrows': 1782, 'discount': 525, 'attend': 135, 'funeral': 765, 'safely': 1530, 'itineraries': 945, 'passport': 1279, 'tick': 1765, 'approach': 109, 'communicate': 358, 'appal': 102, 'journey': 965, 'perhaps': 1298, 'ahold': 49, 'delete': 480, 'ah': 47, 'departures': 490, 'belong': 196, 'star': 1661, 'alliance': 63, 'standard': 1659, 'juan': 968, 'personnel': 1303, 'fam': 657, 'unitedfail': 1852, 'inexcusable': 920, 'million': 1125, 'weight': 1926, 'arrange': 115, 'announcements': 86, 'condition': 378, 'immediately': 896, 'guarantee': 804, 'acceptable': 12, 'peanuts': 1290, 'wed': 1921, 'ramp': 1410, 'hello': 832, 'relations': 1455, 'humans': 878, 'sister': 1601, 'nj': 1187, 'cle': 327, 'alright': 70, 'especially': 603, 'shitty': 1579, 'amount': 81, 'abysmal': 9, 'decide': 470, 'mark': 1082, 'families': 658, 'children': 319, 'roundtrip': 1515, 'loyalty': 1058, 'perk': 1300, 'download': 551, 'hnl': 846, 'cxl': 446, 'progress': 1381, 'badly': 168, 'ff': 681, 'callback': 262, 'corporate': 401, 'sadly': 1528, 'mother': 1152, 'water': 1912, 'legroom': 1008, 'rest': 1493, 'young': 1991, 'tmrw': 1776, 'weird': 1927, 'rate': 1413, 'decent': 469, 'merge': 1106, 'pound': 1351, 'fire': 694, 'eventually': 612, 'cnn': 342, 'approve': 110, 'ship': 1577, 'flts': 721, 'beer': 192, 'inch': 905, 'south': 1639, 'degree': 476, 'six': 1605, 'advice': 35, 'traffic': 1795, 'airbus': 51, 'remind': 1459, 'shout': 1585, 'assignment': 125, 'carrier': 276, 'disregard': 532, 'operations': 1238, 'dragon': 552, 'pen': 1291, 'backup': 164, 'sons': 1633, 'remain': 1457, 'jax': 951, 'bna': 223, 'formal': 737, 'exit': 631, 'commitment': 356, 'plenty': 1332, 'yay': 1979, 'die': 510, 'plastic': 1326, 'meal': 1092, 'roc': 1510, 'useful': 1874, 'map': 1080, 'insult': 931, 'north': 1196, 'tkt': 1775, 'smile': 1616, 'ind': 916, 'roads': 1509, 'interview': 935, 'biggest': 207, 'decision': 471, 'unbelievable': 1838, 'although': 73, 'nothappy': 1200, 'ba': 161, 'slc': 1611, 'argue': 113, 'history': 843, 'overall': 1255, 'relate': 1454, 'recently': 1431, 'expedia': 634, 'document': 541, 'technical': 1732, 'fliers': 705, 'incentive': 904, 'horrendous': 859, 'disgrace': 528, 'procedure': 1376, 'party': 1274, 'cell': 289, 'thoughts': 1757, 'teach': 1728, 'tpa': 1793, 'msp': 1157, 'usual': 1876, 'charity': 305, 'aviation': 152, 'cup': 435, 'guitar': 806, 'extension': 643, 'somebody': 1625, 'rapid': 1411, 'john': 961, 'wheelchair': 1934, 'clearly': 330, 'furious': 767, 'department': 488, 'type': 1829, 'golf': 792, 'cart': 281, 'responsible': 1492, 'insane': 927, 'volume': 1894, 'patient': 1284, 'painful': 1264, 'tight': 1767, 'east': 568, 'embarrass': 581, 'warn': 1908, 'wednesday': 1922, 'res': 1478, 'snack': 1619, 'automate': 146, 'transport': 1799, 'mad': 1065, 'june': 970, 'specific': 1647, 'winners': 1949, 'accurate': 20, 'companion': 361, 'pbi': 1288, 'father': 667, 'lifetime': 1020, 'misplace': 1135, 'laguardia': 987, 'size': 1606, 'suggestions': 1694, 'haha': 809, 'wth': 1976, 'hungry': 881, 'maint': 1068, 'firstclass': 696, 'fantastic': 661, 'sw': 1711, 'exchange': 625, 'gg': 781, 'cont': 393, 'dial': 509, 'tablet': 1718, 'yup': 1995, 'courteous': 415, 'alert': 61, 'straight': 1679, 'anniversary': 83, 'expedite': 635, 'nc': 1169, 'buffalo': 244, 'estimate': 605, 'join': 962, 'gas': 773, 'hide': 838, 'ripoff': 1508, 'nasty': 1167, 'heavy': 830, 'systems': 1716, 'survey': 1709, 'puerto': 1393, 'rico': 1502, 'alot': 68, 'pet': 1304, 'west': 1930, 'admit': 30, 'wifes': 1942, 'desks': 497, 'whether': 1936, 'parent': 1269, 'term': 1738, 'camera': 263, 'pittsburgh': 1321, 'harder': 819, 'van': 1882, 'toddler': 1779, 'jt': 967, 'customs': 443, 'somewhere': 1630, 'letter': 1013, 'fresh': 749, 'ric': 1500, 'reward': 1499, 'august': 141, 'fort': 738, 'flytpa': 728, 'inform': 924, 'apologize': 99, 'neither': 1175, 'laugh': 997, 'understandable': 1842, 'scale': 1541, 'blah': 216, 'en': 586, 'tear': 1730, 'hartford': 820, 'mke': 1138, 'bonus': 225, 'warm': 1907, 'initial': 926, 'ft': 758, 'lauderdale': 996, 'icy': 888, 'street': 1681, 'nexus': 1182, 'indeed': 917, 'ashamed': 120, 'success': 1690, 'gogo': 790, 'sigh': 1592, 'phx': 1312, 'jacksonville': 948, 'de': 463, 'birmingham': 211, 'brutal': 239, 'midway': 1118, 'swa': 1712, 'promotion': 1384, 'alist': 62, 'rr': 1519, 'spiritairlines': 1651, 'data': 454, 'southwestairlines': 1642, 'phlairport': 1308, 'charleston': 306, 'throughout': 1760, 'heart': 827, 'gear': 775, 'mdw': 1091, 'fell': 679, 'destinationdragons': 501, 'imaginedragons': 895, 'voice': 1893, 'unreliable': 1859, 'test': 1743, 'feature': 672, 'bae': 170, 'contest': 396, 'spirit': 1650, 'scavenger': 1543, 'hunt': 882, 'terry': 1742, 'est': 604, 'noon': 1193, 'aug': 140, 'columbus': 351, 'oakland': 1211, 'bostonlogan': 229, 'arrangements': 116, 'enroute': 592, 'stroller': 1685, 'md': 1090, 'tx': 1827, 'sale': 1532, 'telephone': 1735, 'band': 176, 'color': 350, 'compassion': 364, 'lucky': 1061, 'loss': 1047, 'dragons': 553, 'sunny': 1701, 'professional': 1378, 'baltimore': 175, 'usair': 1869, 'cmon': 341, 'loose': 1045, 'resched': 1479, 'blue': 221, 'fortunemagazine': 740, 'corporation': 402, 'stupid': 1688, 'summer': 1698, 'cash': 283, 'refer': 1441, 'crowd': 428, 'velourlive': 1884, 'triflight': 1807, 'selfie': 1560, 'nearby': 1172, 'aww': 160, 'college': 349, 'savannah': 1537, 'anticipate': 90, 'love_dragonss': 1053, 'lauren': 998, 'costa': 406, 'rica': 1501, 'chaos': 302, 'unload': 1855, 'evaluate': 609, 'disney': 530, 'involve': 937, 'regular': 1450, 'fraud': 744, 'national': 1168, 'sju': 1608, 'fleek': 702, 'jb': 952, 'trueblue': 1812, 'plat': 1327, 'beach': 188, 'flyfi': 725, 'transportation': 1800, 'njb': 1188, 'jblu': 953, 'wsj': 1974, 'cuba': 433, 'appease': 105, 'jetblues': 956, 'waterbury': 1913, 'republican': 1473, 'flyingitforward': 726, 'mint': 1131, 'nantucket': 1165, 'glass': 786, 'mosaic': 1151, 'goodwill': 794, 'hpn': 871, 'circle': 322, 'journal': 964, 'bluemanity': 222, 'admirals': 29, 'livery': 1032, 'bottle': 231, 'shoutout': 1586, 'dividend': 535, 'chairman': 297, 'agency': 42, 'exec': 628, 'ctl': 432, 'aadvantage': 1, 'onhold': 1231, 'key': 973, 'usairwayssucks': 1872, 'locator': 1037, 'dfwairport': 507, 'cowboycerrone': 419, 'understaffing': 1840}\n"
     ]
    }
   ],
   "source": [
    "print(len(vectorizer2.vocabulary_))\n",
    "print(vectorizer2.vocabulary_)"
   ]
  },
  {
   "cell_type": "markdown",
   "metadata": {},
   "source": [
    "# 5. Fit and evaluate model using both type of vectorization"
   ]
  },
  {
   "cell_type": "code",
   "execution_count": 25,
   "metadata": {},
   "outputs": [],
   "source": [
    "# CountVectorizer model\n",
    "\n",
    "# replace the string values with intger values.\n",
    "eval = {'negative':0, 'neutral':1, 'positive':2}\n",
    "tweets_final['airline_sentiment'] = tweets_final['airline_sentiment'].replace(eval)"
   ]
  },
  {
   "cell_type": "code",
   "execution_count": 26,
   "metadata": {},
   "outputs": [
    {
     "data": {
      "text/html": [
       "<div>\n",
       "<style scoped>\n",
       "    .dataframe tbody tr th:only-of-type {\n",
       "        vertical-align: middle;\n",
       "    }\n",
       "\n",
       "    .dataframe tbody tr th {\n",
       "        vertical-align: top;\n",
       "    }\n",
       "\n",
       "    .dataframe thead th {\n",
       "        text-align: right;\n",
       "    }\n",
       "</style>\n",
       "<table border=\"1\" class=\"dataframe\">\n",
       "  <thead>\n",
       "    <tr style=\"text-align: right;\">\n",
       "      <th></th>\n",
       "      <th>airline_sentiment</th>\n",
       "      <th>text</th>\n",
       "    </tr>\n",
       "  </thead>\n",
       "  <tbody>\n",
       "    <tr>\n",
       "      <th>0</th>\n",
       "      <td>1</td>\n",
       "      <td>virginamerica dhepburn say</td>\n",
       "    </tr>\n",
       "    <tr>\n",
       "      <th>1</th>\n",
       "      <td>2</td>\n",
       "      <td>virginamerica plus add commercials experience tacky</td>\n",
       "    </tr>\n",
       "    <tr>\n",
       "      <th>2</th>\n",
       "      <td>1</td>\n",
       "      <td>virginamerica not today must mean need take another trip</td>\n",
       "    </tr>\n",
       "    <tr>\n",
       "      <th>3</th>\n",
       "      <td>0</td>\n",
       "      <td>virginamerica really aggressive blast obnoxious entertainment guests face little recourse</td>\n",
       "    </tr>\n",
       "    <tr>\n",
       "      <th>4</th>\n",
       "      <td>0</td>\n",
       "      <td>virginamerica really big bad thing</td>\n",
       "    </tr>\n",
       "    <tr>\n",
       "      <th>...</th>\n",
       "      <td>...</td>\n",
       "      <td>...</td>\n",
       "    </tr>\n",
       "    <tr>\n",
       "      <th>14635</th>\n",
       "      <td>2</td>\n",
       "      <td>americanair thank get different flight chicago</td>\n",
       "    </tr>\n",
       "    <tr>\n",
       "      <th>14636</th>\n",
       "      <td>0</td>\n",
       "      <td>americanair leave minutes late flight warn communication minutes late flight call shitty customer svc</td>\n",
       "    </tr>\n",
       "    <tr>\n",
       "      <th>14637</th>\n",
       "      <td>1</td>\n",
       "      <td>americanair please bring american airlines blackberry</td>\n",
       "    </tr>\n",
       "    <tr>\n",
       "      <th>14638</th>\n",
       "      <td>0</td>\n",
       "      <td>americanair money change flight not answer phone suggestions make commitment</td>\n",
       "    </tr>\n",
       "    <tr>\n",
       "      <th>14639</th>\n",
       "      <td>1</td>\n",
       "      <td>americanair ppl need know many seat next flight plz put us standby people next flight</td>\n",
       "    </tr>\n",
       "  </tbody>\n",
       "</table>\n",
       "<p>14640 rows × 2 columns</p>\n",
       "</div>"
      ],
      "text/plain": [
       "       airline_sentiment  \\\n",
       "0                      1   \n",
       "1                      2   \n",
       "2                      1   \n",
       "3                      0   \n",
       "4                      0   \n",
       "...                  ...   \n",
       "14635                  2   \n",
       "14636                  0   \n",
       "14637                  1   \n",
       "14638                  0   \n",
       "14639                  1   \n",
       "\n",
       "                                                                                                        text  \n",
       "0                                                                                 virginamerica dhepburn say  \n",
       "1                                                        virginamerica plus add commercials experience tacky  \n",
       "2                                                   virginamerica not today must mean need take another trip  \n",
       "3                  virginamerica really aggressive blast obnoxious entertainment guests face little recourse  \n",
       "4                                                                         virginamerica really big bad thing  \n",
       "...                                                                                                      ...  \n",
       "14635                                                         americanair thank get different flight chicago  \n",
       "14636  americanair leave minutes late flight warn communication minutes late flight call shitty customer svc  \n",
       "14637                                                  americanair please bring american airlines blackberry  \n",
       "14638                           americanair money change flight not answer phone suggestions make commitment  \n",
       "14639                  americanair ppl need know many seat next flight plz put us standby people next flight  \n",
       "\n",
       "[14640 rows x 2 columns]"
      ]
     },
     "execution_count": 26,
     "metadata": {},
     "output_type": "execute_result"
    }
   ],
   "source": [
    "tweets_final"
   ]
  },
  {
   "cell_type": "code",
   "execution_count": 27,
   "metadata": {},
   "outputs": [],
   "source": [
    "sentiment = tweets_final['airline_sentiment']"
   ]
  },
  {
   "cell_type": "code",
   "execution_count": 28,
   "metadata": {},
   "outputs": [
    {
     "name": "stdout",
     "output_type": "stream",
     "text": [
      "CountVectorizer Model Train set performance =  75.219481976717\n",
      "CountVectorizer Moel Test set performance =  75.61475409836066\n"
     ]
    }
   ],
   "source": [
    "# Split data into training and testing set.\n",
    "from sklearn.model_selection import train_test_split\n",
    "\n",
    "x_train, x_test, y_train, y_test = train_test_split(tweets_CountVectorizer, sentiment, test_size=0.3, random_state=50)\n",
    "\n",
    "# Using Random Forest to build the model.\n",
    "from sklearn.ensemble import RandomForestClassifier\n",
    "from sklearn.model_selection import cross_val_score\n",
    "\n",
    "# Build the classifier object and then fit it to the trainning data.\n",
    "rf = RandomForestClassifier(n_estimators=50)\n",
    "rf = rf.fit(x_train, y_train)\n",
    "\n",
    "# print the model performance\n",
    "print(\"CountVectorizer Model Train set performance = \",np.mean(cross_val_score(rf, tweets_CountVectorizer, sentiment, cv=50))*100)\n",
    "\n",
    "#Test set performance\n",
    "score = rf.score(x_test,y_test)\n",
    "print('CountVectorizer Moel Test set performance = ',score*100)"
   ]
  },
  {
   "cell_type": "code",
   "execution_count": 29,
   "metadata": {},
   "outputs": [
    {
     "name": "stdout",
     "output_type": "stream",
     "text": [
      "[[2467  215   85]\n",
      " [ 396  428   97]\n",
      " [ 163  115  426]]\n"
     ]
    },
    {
     "data": {
      "text/plain": [
       "<matplotlib.axes._subplots.AxesSubplot at 0x1fc56304340>"
      ]
     },
     "execution_count": 29,
     "metadata": {},
     "output_type": "execute_result"
    },
    {
     "data": {
      "image/png": "[encoded data removed]",
      "text/plain": [
       "<Figure size 504x504 with 2 Axes>"
      ]
     },
     "metadata": {
      "needs_background": "light"
     },
     "output_type": "display_data"
    }
   ],
   "source": [
    "# plot Confusion matirx for CountVectorizer model.\n",
    "\n",
    "# Predict the result for test data using the model built above.\n",
    "y_pred = rf.predict(x_test)\n",
    "\n",
    "from sklearn.metrics import confusion_matrix\n",
    "\n",
    "conf_mat = confusion_matrix(y_test, y_pred)\n",
    "\n",
    "print(conf_mat)\n",
    "\n",
    "df_cm = pd.DataFrame(conf_mat, index = [i for i in \"012\"],\n",
    "                  columns = [i for i in \"012\"])\n",
    "plt.figure(figsize = (7,7))\n",
    "sns.heatmap(df_cm, annot=True, fmt='g')"
   ]
  },
  {
   "cell_type": "code",
   "execution_count": 30,
   "metadata": {},
   "outputs": [
    {
     "name": "stdout",
     "output_type": "stream",
     "text": [
      "TfidfVectorizer Model Train set performance =  75.23182476974145\n",
      "TfidfVectorizer Moel Test set performance =  76.16120218579235\n"
     ]
    }
   ],
   "source": [
    "# TfidfVectorizer model\n",
    "\n",
    "# Split data into training and testing set.\n",
    "x_train2, x_test2, y_train2, y_test2 = train_test_split(tweets_TfidfVectorizer, sentiment, test_size=0.3, random_state=50)\n",
    "\n",
    "# Build the classifier object and then fit it to the trainning data.\n",
    "rf2 = RandomForestClassifier(n_estimators=50)\n",
    "rf2 = rf2.fit(x_train2, y_train2)\n",
    "\n",
    "# print the model performance\n",
    "print(\"TfidfVectorizer Model Train set performance = \",np.mean(cross_val_score(rf, tweets_TfidfVectorizer, sentiment, cv=50))*100)\n",
    "\n",
    "#Test set performance\n",
    "score2 = rf2.score(x_test2,y_test2)\n",
    "print('TfidfVectorizer Moel Test set performance = ',score2*100)"
   ]
  },
  {
   "cell_type": "code",
   "execution_count": 31,
   "metadata": {},
   "outputs": [
    {
     "name": "stdout",
     "output_type": "stream",
     "text": [
      "[[2573  138   56]\n",
      " [ 478  365   78]\n",
      " [ 208   89  407]]\n"
     ]
    },
    {
     "data": {
      "text/plain": [
       "<matplotlib.axes._subplots.AxesSubplot at 0x1fc57cc16a0>"
      ]
     },
     "execution_count": 31,
     "metadata": {},
     "output_type": "execute_result"
    },
    {
     "data": {
      "image/png": "[encoded data removed]",
      "text/plain": [
       "<Figure size 504x504 with 2 Axes>"
      ]
     },
     "metadata": {
      "needs_background": "light"
     },
     "output_type": "display_data"
    }
   ],
   "source": [
    "# plot Confusion matirx for TfidfVectorizer model.\n",
    "\n",
    "# Predict the result for test data using the model built above.\n",
    "y_pred2 = rf2.predict(x_test2)\n",
    "\n",
    "from sklearn.metrics import confusion_matrix\n",
    "\n",
    "conf_mat2 = confusion_matrix(y_test2, y_pred2)\n",
    "\n",
    "print(conf_mat2)\n",
    "\n",
    "df_cm2 = pd.DataFrame(conf_mat2, index = [i for i in \"012\"],\n",
    "                  columns = [i for i in \"012\"])\n",
    "plt.figure(figsize = (7,7))\n",
    "sns.heatmap(df_cm2, annot=True, fmt='g')"
   ]
  },
  {
   "cell_type": "markdown",
   "metadata": {},
   "source": [
    "# 6. Summary"
   ]
  },
  {
   "cell_type": "markdown",
   "metadata": {},
   "source": [
    "\n",
    "The target is to create a model for sentinemt classification between negative-neutral-positive or 0-1-2.\n",
    "\n",
    "To remove unwanted texts and expressions which add no extra information to the calssification, I used methods and functions as \n",
    "BeautifulSoup to remove html tags, 're' to remove numbers, special characters and punctuations, 'unicodedata' to remove accented characters, WordNetLemmatizer() to lemmatize the words and enhance the process. \n",
    "\n",
    "The preprecessed data is converted to vectors of numbers to represent the frequency of the words and to estimate the importance and weight of each word via CountVectorizer() & TfidfVectorizer() methods, and to prepare it to be fed to the classification model.\n",
    "\n",
    "I built Random forest classification model with 50 estimators/trees then fitted it to the train dataset, it achieves around 75% with CountVectorizer() model ,and almost the same performance with testset, while achives 76% with TfidfVectorizer() model on the test dataset which is slightly higher.\n",
    "\n",
    "\n",
    "One more way to increase accuracy is to use different variations of Pre-processing techniques."
   ]
  }
 ],
 "metadata": {
  "kernelspec": {
   "display_name": "Python 3",
   "language": "python",
   "name": "python3"
  },
  "language_info": {
   "codemirror_mode": {
    "name": "ipython",
    "version": 3
   },
   "file_extension": ".py",
   "mimetype": "text/x-python",
   "name": "python",
   "nbconvert_exporter": "python",
   "pygments_lexer": "ipython3",
   "version": "3.8.3"
  }
 },
 "nbformat": 4,
 "nbformat_minor": 4
}
